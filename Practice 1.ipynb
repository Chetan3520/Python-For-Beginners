{
 "cells": [
  {
   "cell_type": "code",
   "execution_count": 7,
   "id": "c95d5c21",
   "metadata": {},
   "outputs": [
    {
     "name": "stdout",
     "output_type": "stream",
     "text": [
      "Chetan Rajaram Salunke\n"
     ]
    }
   ],
   "source": [
    "print(\"Chetan Rajaram Salunke\")"
   ]
  },
  {
   "cell_type": "markdown",
   "id": "5249cf8a",
   "metadata": {},
   "source": [
    "# Finding Greatest Number Out of Three Numbers Given By User"
   ]
  },
  {
   "cell_type": "code",
   "execution_count": 2,
   "id": "7ab70cc3",
   "metadata": {},
   "outputs": [
    {
     "name": "stdout",
     "output_type": "stream",
     "text": [
      "Enter the First Number :11\n",
      "Enter the Second Number :12\n",
      "Enter the Third Number :13\n",
      "13 is Greatest Number\n"
     ]
    }
   ],
   "source": [
    "\n",
    "n1=int(input(\"Enter the First Number :\"))\n",
    "n2=int(input(\"Enter the Second Number :\"))\n",
    "n3=int(input(\"Enter the Third Number :\"))\n",
    "if(n1>n2 and n1>n3): \n",
    "    print(\"{} Greatest Number\".format(n1))\n",
    "if(n2>n3):\n",
    "    print(\"{} is Greatest Number\".format(n2))\n",
    "else:\n",
    "    print(\"{} is Greatest Number\".format(n3))\n",
    "    "
   ]
  },
  {
   "cell_type": "markdown",
   "id": "efe24b56",
   "metadata": {},
   "source": [
    "# Printing Natural Numbers till range given by User"
   ]
  },
  {
   "cell_type": "code",
   "execution_count": 13,
   "id": "a1c99b07",
   "metadata": {},
   "outputs": [
    {
     "name": "stdout",
     "output_type": "stream",
     "text": [
      "Enter The range for first natural Numbers12\n",
      "1\n",
      "2\n",
      "3\n",
      "4\n",
      "5\n",
      "6\n",
      "7\n",
      "8\n",
      "9\n",
      "10\n",
      "11\n",
      "12\n"
     ]
    }
   ],
   "source": [
    "\n",
    "R=int(input(\"Enter The range for first natural Numbers\"))\n",
    "for i in range(1,R+1):\n",
    "    print(i)"
   ]
  },
  {
   "cell_type": "markdown",
   "id": "8c1fa34b",
   "metadata": {},
   "source": [
    "# Printing First Odd Numbers"
   ]
  },
  {
   "cell_type": "code",
   "execution_count": 4,
   "id": "a60cf1c8",
   "metadata": {},
   "outputs": [
    {
     "name": "stdout",
     "output_type": "stream",
     "text": [
      "Enter how many first Odd Numbers do you want to print10\n",
      "1\n",
      "3\n",
      "5\n",
      "7\n",
      "9\n",
      "11\n",
      "13\n",
      "15\n",
      "17\n"
     ]
    }
   ],
   "source": [
    "n1=int(input(\"Enter how many first Odd Numbers do you want to print\"))\n",
    "for i in range(1,n1):\n",
    "    t=2*i-1\n",
    "    print(t)\n"
   ]
  },
  {
   "cell_type": "markdown",
   "id": "f441657f",
   "metadata": {},
   "source": [
    "# Printing Odd Numbers till range given by user"
   ]
  },
  {
   "cell_type": "code",
   "execution_count": 3,
   "id": "a93ba0d1",
   "metadata": {},
   "outputs": [
    {
     "name": "stdout",
     "output_type": "stream",
     "text": [
      "Enter the Range10\n",
      "1\n",
      "3\n",
      "5\n",
      "7\n",
      "9\n"
     ]
    }
   ],
   "source": [
    "R=int(input(\"Enter the Range\"))\n",
    "for i in range(R+1):\n",
    "    if(i%2!=0):\n",
    "        print(i)\n",
    "            "
   ]
  },
  {
   "cell_type": "markdown",
   "id": "95ba2542",
   "metadata": {},
   "source": [
    "# Recognizing Prime Number or Not"
   ]
  },
  {
   "cell_type": "code",
   "execution_count": 5,
   "id": "5e8d75be",
   "metadata": {},
   "outputs": [
    {
     "name": "stdout",
     "output_type": "stream",
     "text": [
      "Enter the  Number :27\n",
      "27 is Not Prime Number\n"
     ]
    }
   ],
   "source": [
    "n1=int(input(\"Enter the  Number :\"))\n",
    "c=2\n",
    "while(n1%c!=0):\n",
    "    c=c+1\n",
    "if(c==n1):\n",
    "    print(\"{} is prime Number\".format(n1))\n",
    "else:\n",
    "    print(\"{} is Not Prime Number\".format(n1))"
   ]
  },
  {
   "cell_type": "markdown",
   "id": "3d17f5c5",
   "metadata": {},
   "source": [
    "# Printing Prime Number In given range"
   ]
  },
  {
   "cell_type": "code",
   "execution_count": 27,
   "id": "d8210d6e",
   "metadata": {},
   "outputs": [
    {
     "name": "stdout",
     "output_type": "stream",
     "text": [
      "Enter the Range7\n",
      "2\n",
      "3\n",
      "5\n",
      "7\n"
     ]
    }
   ],
   "source": [
    "R=int(input('Enter the Range'))\n",
    "for i in range(2,R+1):\n",
    "    c=2\n",
    "    while(i%c!=0):\n",
    "        c=c+1\n",
    "    if(c==i):\n",
    "        print(i)"
   ]
  },
  {
   "cell_type": "markdown",
   "id": "c5cf84db",
   "metadata": {},
   "source": [
    "# Finding Factorial of user given Number"
   ]
  },
  {
   "cell_type": "code",
   "execution_count": 11,
   "id": "b7a7bec7",
   "metadata": {},
   "outputs": [
    {
     "name": "stdout",
     "output_type": "stream",
     "text": [
      "Enter the Number10\n",
      "362880\n"
     ]
    }
   ],
   "source": [
    "n=int(input(\"Enter the Number\"))\n",
    "fact=1\n",
    "for i in range(1,n):\n",
    "    fact=fact*i\n",
    "print(fact)"
   ]
  },
  {
   "cell_type": "markdown",
   "id": "e7cc8603",
   "metadata": {},
   "source": [
    "### OR"
   ]
  },
  {
   "cell_type": "code",
   "execution_count": 9,
   "id": "162b8427",
   "metadata": {
    "scrolled": true
   },
   "outputs": [
    {
     "name": "stdout",
     "output_type": "stream",
     "text": [
      "Enter the number3\n"
     ]
    },
    {
     "data": {
      "text/plain": [
       "6"
      ]
     },
     "execution_count": 9,
     "metadata": {},
     "output_type": "execute_result"
    }
   ],
   "source": [
    "n=int(input(\"Enter the number\"))\n",
    "import math\n",
    "math.factorial(n)"
   ]
  },
  {
   "cell_type": "code",
   "execution_count": 12,
   "id": "994c8324",
   "metadata": {},
   "outputs": [
    {
     "name": "stdout",
     "output_type": "stream",
     "text": [
      "6\n"
     ]
    }
   ],
   "source": [
    "print(Out[9])"
   ]
  },
  {
   "cell_type": "markdown",
   "id": "5ef05be7",
   "metadata": {},
   "source": [
    "# #Enter Reverse Natural Number"
   ]
  },
  {
   "cell_type": "code",
   "execution_count": 39,
   "id": "451fc5bb",
   "metadata": {},
   "outputs": [
    {
     "name": "stdout",
     "output_type": "stream",
     "text": [
      "Enter the Range Number10\n",
      "10\n",
      "9\n",
      "8\n",
      "7\n",
      "6\n",
      "5\n",
      "4\n",
      "3\n",
      "2\n",
      "1\n"
     ]
    }
   ],
   "source": [
    "R=int(input(\"Enter the Range Number\"))\n",
    "for i in range(1,R+1):\n",
    "    print(R+1-i)"
   ]
  },
  {
   "cell_type": "markdown",
   "id": "26df2032",
   "metadata": {},
   "source": [
    "# Reverse the Number given by user"
   ]
  },
  {
   "cell_type": "code",
   "execution_count": 13,
   "id": "788bf145",
   "metadata": {},
   "outputs": [
    {
     "name": "stdout",
     "output_type": "stream",
     "text": [
      "Enter the  Number123\n",
      "321"
     ]
    }
   ],
   "source": [
    "n1=int(input(\"Enter the  Number\"))\n",
    "while(n1!=0):\n",
    "    r=n1%10\n",
    "    n1=n1//10\n",
    "    print(r ,end='')"
   ]
  },
  {
   "cell_type": "markdown",
   "id": "7730abbb",
   "metadata": {},
   "source": [
    "#### OR"
   ]
  },
  {
   "cell_type": "code",
   "execution_count": 20,
   "id": "48383d6d",
   "metadata": {},
   "outputs": [
    {
     "name": "stdout",
     "output_type": "stream",
     "text": [
      "Enter the  Number123\n",
      "321\n"
     ]
    }
   ],
   "source": [
    "n1=input(\"Enter the  Number\")\n",
    "print(n1[-1::-1])"
   ]
  },
  {
   "cell_type": "code",
   "execution_count": 14,
   "id": "7dd3cf15",
   "metadata": {},
   "outputs": [
    {
     "name": "stdout",
     "output_type": "stream",
     "text": [
      "Yogesh\n"
     ]
    }
   ],
   "source": [
    "print(\"Yogesh\")"
   ]
  },
  {
   "cell_type": "code",
   "execution_count": null,
   "id": "2e2479ad",
   "metadata": {},
   "outputs": [],
   "source": []
  }
 ],
 "metadata": {
  "kernelspec": {
   "display_name": "Python 3",
   "language": "python",
   "name": "python3"
  },
  "language_info": {
   "codemirror_mode": {
    "name": "ipython",
    "version": 3
   },
   "file_extension": ".py",
   "mimetype": "text/x-python",
   "name": "python",
   "nbconvert_exporter": "python",
   "pygments_lexer": "ipython3",
   "version": "3.8.8"
  }
 },
 "nbformat": 4,
 "nbformat_minor": 5
}
