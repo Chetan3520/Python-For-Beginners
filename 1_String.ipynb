{
 "cells": [
  {
   "cell_type": "markdown",
   "id": "1bbabec8",
   "metadata": {},
   "source": [
    "\n",
    "# STRING\n"
   ]
  },
  {
   "cell_type": "markdown",
   "id": "59112595",
   "metadata": {},
   "source": [
    "## String Represent Group of Character\n"
   ]
  },
  {
   "cell_type": "code",
   "execution_count": 28,
   "id": "07bb08a4",
   "metadata": {},
   "outputs": [
    {
     "name": "stdout",
     "output_type": "stream",
     "text": [
      "Chstan Rajaram Salunks\n"
     ]
    }
   ],
   "source": [
    "#Replae character 'e' by 's'\n",
    "a=\"Chetan Rajaram Salunke\"\n",
    "print(a.replace('e','s'))"
   ]
  },
  {
   "cell_type": "code",
   "execution_count": 13,
   "id": "812ae57d",
   "metadata": {},
   "outputs": [
    {
     "name": "stdout",
     "output_type": "stream",
     "text": [
      "Chstan Rajaram Salunks"
     ]
    }
   ],
   "source": [
    "#Replae character 'e' by 's' without Using function\n",
    "a=\"Chetan Rajaram Salunke\"\n",
    "for i in a:\n",
    "    if(i=='e'):\n",
    "        i='s'\n",
    "    d=print(i,end='')\n"
   ]
  },
  {
   "cell_type": "code",
   "execution_count": 79,
   "id": "f6d15ad0",
   "metadata": {},
   "outputs": [
    {
     "name": "stdout",
     "output_type": "stream",
     "text": [
      "ChetanChetanChetanChetanChetan\n",
      "Chetan Chetan Chetan Chetan Chetan \n",
      "Chetan\n",
      "Chetan\n",
      "Chetan\n",
      "Chetan\n",
      "Chetan\n",
      "\n"
     ]
    }
   ],
   "source": [
    "#Repetation Operator\n",
    "a=\"Chetan\"\n",
    "b=\"Chetan \"\n",
    "c=\"Chetan\\n\"\n",
    "print(a*5)\n",
    "print(b*5)\n",
    "print(c*5)"
   ]
  },
  {
   "cell_type": "code",
   "execution_count": 7,
   "id": "0a5a1f86",
   "metadata": {},
   "outputs": [
    {
     "name": "stdout",
     "output_type": "stream",
     "text": [
      "Chetan Chetan Chetan Chetan Chetan \n",
      "Ch\n",
      "Ch\n",
      " natehC\n",
      " natehC\n"
     ]
    }
   ],
   "source": [
    "#Slicing\n",
    "a=\"Chetan \"\n",
    "print(a[0:]*5)\n",
    "print(a[:2])\n",
    "print(a[0:2])\n",
    "print(a[len(a)::-1])\n",
    "print(a[::-1])\n"
   ]
  },
  {
   "cell_type": "code",
   "execution_count": 81,
   "id": "ccdaaafd",
   "metadata": {},
   "outputs": [
    {
     "name": "stdout",
     "output_type": "stream",
     "text": [
      "ChetanSagarYogesh\n"
     ]
    }
   ],
   "source": [
    "#Concatenation\n",
    "a=\"Chetan\"\n",
    "b=\"Sagar\"\n",
    "c='Yogesh' #We can also give single coat to string\n",
    "name=a+b+c\n",
    "print(name)\n"
   ]
  },
  {
   "cell_type": "code",
   "execution_count": 80,
   "id": "6d8ee015",
   "metadata": {},
   "outputs": [
    {
     "name": "stdout",
     "output_type": "stream",
     "text": [
      "Chetan Sagar Yogesh\n"
     ]
    }
   ],
   "source": [
    "#Concatenation\n",
    "a=\"Chetan \"\n",
    "b=\"Sagar \"\n",
    "c='Yogesh'\n",
    "name=a+b+c\n",
    "print(name)\n"
   ]
  },
  {
   "cell_type": "code",
   "execution_count": 74,
   "id": "48ac4cfd",
   "metadata": {},
   "outputs": [
    {
     "name": "stdout",
     "output_type": "stream",
     "text": [
      "Chetan \n",
      "Sagar \n",
      "Yogesh\n"
     ]
    }
   ],
   "source": [
    "\n",
    "#Concatenation\n",
    "a=\"Chetan \"\n",
    "b=\"\\nSagar \"\n",
    "c='\\nYogesh'\n",
    "name=a+b+c\n",
    "print(name)\n",
    "\n"
   ]
  },
  {
   "cell_type": "code",
   "execution_count": 75,
   "id": "07a403c1",
   "metadata": {},
   "outputs": [
    {
     "name": "stdout",
     "output_type": "stream",
     "text": [
      "True\n"
     ]
    }
   ],
   "source": [
    "A=\"Chetan\"\n",
    "B=\"Chetan\"\n",
    "C=A==B\n",
    "print(C)"
   ]
  },
  {
   "cell_type": "code",
   "execution_count": 95,
   "id": "334f37e1",
   "metadata": {},
   "outputs": [
    {
     "name": "stdout",
     "output_type": "stream",
     "text": [
      "My name is 21\n",
      "Value of X is:2 . Value of Y is:3\n",
      "12,14,16\n"
     ]
    }
   ],
   "source": [
    "#Formating String\n",
    "print(\"My name is {}\".format(21))\n",
    "print(\"Value of X is:{x_val} . Value of Y is:{y_val}\".format(x_val=2,y_val=3))\n",
    "A=12\n",
    "B=14\n",
    "C=16\n",
    "print(\"{},{},{}\".format(A,B,C))"
   ]
  },
  {
   "cell_type": "code",
   "execution_count": 106,
   "id": "9309bd4e",
   "metadata": {},
   "outputs": [
    {
     "name": "stdout",
     "output_type": "stream",
     "text": [
      "CHETAN SALUNKE\n",
      "chetan salunke\n",
      "CHETAN SALUNKE\n",
      "Chetan Rajaram Salunke\n"
     ]
    }
   ],
   "source": [
    "#FUNCTIONS OF STRING\n",
    "#upper() convert all Characters in Uppercase\n",
    "#lower() convert all characters in  Lowercase\n",
    "#swapcase() convert all characters in lower to upper and vise versa\n",
    "a=\"chetan salunke\"\n",
    "d=a.upper() #convert all Characters in Uppercase\n",
    "c=d.lower() # convert all characters in  Lowercase\n",
    "e=c.swapcase() #convert all characters in lower to upper and vise versa\n",
    "print(d)\n",
    "print(c)\n",
    "print(e)\n",
    "str=\"chetan rajaram salunke\"\n",
    "print(str.title()) #convert all words start with Captital letter"
   ]
  },
  {
   "cell_type": "code",
   "execution_count": 4,
   "id": "77992f02",
   "metadata": {},
   "outputs": [
    {
     "name": "stdout",
     "output_type": "stream",
     "text": [
      "True\n"
     ]
    }
   ],
   "source": [
    "#isupper() :this is used to whether given  string is in upper case or not,it returns True if string contain all elements are upper\n",
    "c=\"Chetan Rajaram Salunke\"\n",
    "d=c.upper()\n",
    "print(d.isupper())"
   ]
  },
  {
   "cell_type": "code",
   "execution_count": 5,
   "id": "83b7361d",
   "metadata": {},
   "outputs": [
    {
     "name": "stdout",
     "output_type": "stream",
     "text": [
      "True\n"
     ]
    }
   ],
   "source": [
    "#islower():this is used to whether given  string is in lower case or not,it returns True if string contain all elements are lower\n",
    "c=\"chetan rajaram salunke\"\n",
    "print(c.islower())"
   ]
  },
  {
   "cell_type": "code",
   "execution_count": 6,
   "id": "0de21b5c",
   "metadata": {},
   "outputs": [
    {
     "name": "stdout",
     "output_type": "stream",
     "text": [
      "True\n"
     ]
    }
   ],
   "source": [
    "#istitle():this is used to whether in given string all elemets are start with upper case if yes then its return us True\n",
    "c=\"Chetan Rajaram Salunke\"\n",
    "print(c.istitle())\n"
   ]
  },
  {
   "cell_type": "code",
   "execution_count": 9,
   "id": "22eeedcb",
   "metadata": {},
   "outputs": [
    {
     "name": "stdout",
     "output_type": "stream",
     "text": [
      "False\n"
     ]
    }
   ],
   "source": [
    "#isalpha() returns true if all the elemets are from alphabates\n",
    "c=\"do invest ourselves for permanet things\"\n",
    "print(c.isalpha())"
   ]
  },
  {
   "cell_type": "code",
   "execution_count": 10,
   "id": "21173caf",
   "metadata": {},
   "outputs": [
    {
     "name": "stdout",
     "output_type": "stream",
     "text": [
      "True\n"
     ]
    }
   ],
   "source": [
    "#isdigit()\n",
    "c=\"1234345\"\n",
    "print(c.isdigit())"
   ]
  },
  {
   "cell_type": "code",
   "execution_count": 6,
   "id": "db05f321",
   "metadata": {},
   "outputs": [
    {
     "name": "stdout",
     "output_type": "stream",
     "text": [
      "True\n",
      "False\n"
     ]
    }
   ],
   "source": [
    "#isalnum()\n",
    "c=\"chetansalunke352000\"\n",
    "print(c.isalnum())\n",
    "print(c.isdigit())"
   ]
  },
  {
   "cell_type": "code",
   "execution_count": 16,
   "id": "87abdcf4",
   "metadata": {},
   "outputs": [
    {
     "name": "stdout",
     "output_type": "stream",
     "text": [
      "True\n"
     ]
    }
   ],
   "source": [
    "#isspace(): returns true if string contain only space\n",
    "c=\"   \"\n",
    "print(c.isspace())"
   ]
  },
  {
   "cell_type": "code",
   "execution_count": 20,
   "id": "619fbded",
   "metadata": {},
   "outputs": [
    {
     "name": "stdout",
     "output_type": "stream",
     "text": [
      "  Chetan \n",
      "Chetan \n",
      "  Chetan\n",
      "Chetan\n"
     ]
    }
   ],
   "source": [
    "#lstrip(): this method is used to remove the space which are at left side of the string\n",
    "#rstrip(): this method is used to remove the space which are at Rigtht side of the string\n",
    "#strip():this method is used to remove the space which are at Both side of the string\n",
    "c=\"  Chetan \"\n",
    "print(c)\n",
    "print(c.lstrip())\n",
    "print(c.rstrip())\n",
    "print(c.strip())\n",
    "\n"
   ]
  },
  {
   "cell_type": "code",
   "execution_count": 22,
   "id": "e9a9c9a1",
   "metadata": {},
   "outputs": [
    {
     "name": "stdout",
     "output_type": "stream",
     "text": [
      "chsnge the lester s by s\n"
     ]
    }
   ],
   "source": [
    "#replace(): This method is used to replace a sub string in a string with another sub string\n",
    "c=\"change the leater a by s\"\n",
    "d=c.replace('a','s')\n",
    "print(d)"
   ]
  },
  {
   "cell_type": "code",
   "execution_count": 25,
   "id": "5e5b22e1",
   "metadata": {},
   "outputs": [
    {
     "name": "stdout",
     "output_type": "stream",
     "text": [
      "['Fighters', 'are', 'the', 'winners']\n",
      "4\n"
     ]
    }
   ],
   "source": [
    "#split(): This method is used to spit string into pieces and convert into list from string\n",
    "#CONVERT LIST TO STRING\n",
    "c=\"Fighters are the winners\"\n",
    "print(c.split())\n",
    "l=len(c.split())\n",
    "print(l)"
   ]
  },
  {
   "cell_type": "code",
   "execution_count": 45,
   "id": "659a32d0",
   "metadata": {},
   "outputs": [
    {
     "name": "stdout",
     "output_type": "stream",
     "text": [
      "F i g h t e r s   a r e   t h e   w i n n e r s\n"
     ]
    }
   ],
   "source": [
    "#join()\n",
    "#This method is used to join string to string\n",
    "c=\"Fighters are the winners\"\n",
    "d=\" \".join(c)  #add space after each character\n",
    "print(d)\n",
    "\n",
    "\n"
   ]
  },
  {
   "cell_type": "code",
   "execution_count": 48,
   "id": "4f20b1df",
   "metadata": {},
   "outputs": [
    {
     "name": "stdout",
     "output_type": "stream",
     "text": [
      "True\n"
     ]
    }
   ],
   "source": [
    "#startswith()\n",
    "#Return True whether a string is starts with a substring or not otherwise return false\n",
    "s=\"hellow Everyone , whats the amazing evening today.\"\n",
    "print(s.startswith(\"hellow\"))"
   ]
  },
  {
   "cell_type": "code",
   "execution_count": 50,
   "id": "293ccea0",
   "metadata": {},
   "outputs": [
    {
     "name": "stdout",
     "output_type": "stream",
     "text": [
      "True\n"
     ]
    }
   ],
   "source": [
    "#endswith()\n",
    "#Return True whether a string is ends with a substring or not otherwise return false\n",
    "s=\"hellow Everyone , whats the amazing evening today.\"\n",
    "print(s.endswith(\"today.\"))\n"
   ]
  },
  {
   "cell_type": "markdown",
   "id": "27d0170c",
   "metadata": {},
   "source": [
    "# slicing"
   ]
  },
  {
   "cell_type": "markdown",
   "id": "cc215be8",
   "metadata": {},
   "source": [
    "You are given an immutable string, and you want to make changes to it.\n",
    "\n",
    "Example\n",
    "\n",
    ">>> string = \"abracadabra\"\n",
    "You can access an index by:\n",
    "\n",
    ">>> print string[5]\n",
    "a\n",
    "What if you would like to assign a value?\n",
    "\n",
    ">>> string[5] = 'k' \n",
    "Traceback (most recent call last):\n",
    "  File \"<stdin>\", line 1, in <module>\n",
    "TypeError: 'str' object does not support item assignment"
   ]
  },
  {
   "cell_type": "code",
   "execution_count": 3,
   "id": "dbc224da",
   "metadata": {},
   "outputs": [],
   "source": [
    "string='abracadabra'\n",
    "#replace 'a'{which is previous of d in string} by 'k'"
   ]
  },
  {
   "cell_type": "code",
   "execution_count": 4,
   "id": "26f94529",
   "metadata": {},
   "outputs": [
    {
     "name": "stdout",
     "output_type": "stream",
     "text": [
      "abrackabra\n"
     ]
    }
   ],
   "source": [
    "string=string[:5]+'k'+string[6+1:]\n",
    "print(string)\n"
   ]
  },
  {
   "cell_type": "markdown",
   "id": "3d97c3bb",
   "metadata": {},
   "source": [
    "### replace last 'a' by 'S'"
   ]
  },
  {
   "cell_type": "code",
   "execution_count": 5,
   "id": "5f1d133a",
   "metadata": {},
   "outputs": [
    {
     "name": "stdout",
     "output_type": "stream",
     "text": [
      "abrackabrS\n"
     ]
    }
   ],
   "source": [
    "string=string[:len(string)-1]+'S'\n",
    "print(string)"
   ]
  },
  {
   "cell_type": "code",
   "execution_count": 6,
   "id": "76dba6bc",
   "metadata": {},
   "outputs": [],
   "source": [
    "string=string[:5]"
   ]
  },
  {
   "cell_type": "code",
   "execution_count": 7,
   "id": "3e4deeee",
   "metadata": {},
   "outputs": [
    {
     "data": {
      "text/plain": [
       "'abrac'"
      ]
     },
     "execution_count": 7,
     "metadata": {},
     "output_type": "execute_result"
    }
   ],
   "source": [
    "string\n"
   ]
  },
  {
   "cell_type": "markdown",
   "id": "218fdf68",
   "metadata": {},
   "source": [
    "# Getting string from user"
   ]
  },
  {
   "cell_type": "code",
   "execution_count": 2,
   "id": "346774a2",
   "metadata": {},
   "outputs": [
    {
     "name": "stdout",
     "output_type": "stream",
     "text": [
      "Enter the size of string3\n",
      "enter the one lettera\n",
      "enter the one letterb\n",
      "enter the one letterc\n",
      "abc\n"
     ]
    }
   ],
   "source": [
    "n=int(input(\"Enter the size of string\"))\n",
    "s=''\n",
    "for i in range(n):\n",
    "    s=s+input(\"enter the one letter\")\n",
    "print(s)"
   ]
  },
  {
   "cell_type": "code",
   "execution_count": 5,
   "id": "abbe7d36",
   "metadata": {},
   "outputs": [
    {
     "name": "stdout",
     "output_type": "stream",
     "text": [
      "cHETAN sALUNKE\n"
     ]
    }
   ],
   "source": [
    "s=\"Chetan Salunke\"\n",
    "t=s.swapcase()\n",
    "print(t)"
   ]
  },
  {
   "cell_type": "code",
   "execution_count": 27,
   "id": "cb22df88",
   "metadata": {},
   "outputs": [
    {
     "name": "stdout",
     "output_type": "stream",
     "text": [
      "qA2\n",
      "True\n",
      "True\n",
      "True\n",
      "True\n",
      "True\n"
     ]
    }
   ],
   "source": [
    "s = input()\n",
    "l0=[]\n",
    "l=[]\n",
    "l1=[]\n",
    "l2=[]\n",
    "l3=[]\n",
    "for i in range(len(s)):\n",
    "    l0.append(s[i:i+3].isalnum())\n",
    "if True in l0:\n",
    "    print(\"True\")\n",
    "else:\n",
    "    print(\"False\")\n",
    "for i in s:\n",
    "    l.append(i.isalpha())\n",
    "if True in l:\n",
    "    print(\"True\")\n",
    "else:\n",
    "    print(\"False\")\n",
    "for i in s:\n",
    "    l1.append(i.isdigit())\n",
    "if True in l1:\n",
    "    print(\"True\")\n",
    "else:\n",
    "    print(\"False\")\n",
    "for i in s:\n",
    "    l2.append(i.islower())\n",
    "if True in l2:\n",
    "    print(\"True\")\n",
    "else:\n",
    "    print(\"False\")\n",
    "for i in s:\n",
    "    l3.append(i.isupper())\n",
    "if True in l3:\n",
    "    print(\"True\")\n",
    "else:\n",
    "    print(\"False\")"
   ]
  },
  {
   "cell_type": "markdown",
   "id": "9b3328dc",
   "metadata": {},
   "source": [
    "# Capitalise the string elements"
   ]
  },
  {
   "cell_type": "code",
   "execution_count": 9,
   "id": "b7305e74",
   "metadata": {},
   "outputs": [
    {
     "name": "stdout",
     "output_type": "stream",
     "text": [
      "1 W 2 R 3g\n"
     ]
    }
   ],
   "source": [
    "s='1 w 2 r 3g'\n",
    "print(' '.join(i.capitalize() for i in s.split(' ')))\n",
    "        "
   ]
  },
  {
   "cell_type": "markdown",
   "id": "9d75f10d",
   "metadata": {},
   "source": [
    "## If we also want to capitalise the element in string which start with digit."
   ]
  },
  {
   "cell_type": "code",
   "execution_count": 8,
   "id": "e0d7c2b5",
   "metadata": {},
   "outputs": [
    {
     "name": "stdout",
     "output_type": "stream",
     "text": [
      "1 W 2 R 3G"
     ]
    }
   ],
   "source": [
    "s='1 w 2 r 3g'\n",
    "for i in s.split():\n",
    "    a=str(i)\n",
    "    if len(a)>1:\n",
    "        for i in a:\n",
    "            if i.isalpha():\n",
    "                print(i.upper(),end='')\n",
    "                \n",
    "            else:\n",
    "                print(i,end='')\n",
    "    else:\n",
    "        if a.isalpha():\n",
    "            print(a.upper(),end=' ')\n",
    "        else:\n",
    "            print(a,end=' ')\n",
    "\n",
    "    \n",
    "        "
   ]
  },
  {
   "cell_type": "markdown",
   "id": "807960a9",
   "metadata": {},
   "source": [
    "# list to string"
   ]
  },
  {
   "cell_type": "code",
   "execution_count": 4,
   "id": "0150416d",
   "metadata": {},
   "outputs": [
    {
     "name": "stdout",
     "output_type": "stream",
     "text": [
      "Chetan\n"
     ]
    },
    {
     "data": {
      "text/plain": [
       "str"
      ]
     },
     "execution_count": 4,
     "metadata": {},
     "output_type": "execute_result"
    }
   ],
   "source": [
    "l=['C', 'h', 'e', 't', 'a', 'n']\n",
    "t=''\n",
    "for i in l:\n",
    "    t=t+i\n",
    "print(t)\n",
    "type(t)"
   ]
  },
  {
   "cell_type": "markdown",
   "id": "301150ef",
   "metadata": {},
   "source": [
    "# Count the total number of word in given sentense(string)"
   ]
  },
  {
   "cell_type": "code",
   "execution_count": 20,
   "id": "808fd55e",
   "metadata": {},
   "outputs": [
    {
     "name": "stdout",
     "output_type": "stream",
     "text": [
      "4\n"
     ]
    }
   ],
   "source": [
    "s=\"Sagar  Chaudhari Chetan Salunke\"\n",
    "d=len(s.split())\n",
    "print(d)\n"
   ]
  },
  {
   "cell_type": "raw",
   "id": "e7d4dab3",
   "metadata": {},
   "source": []
  },
  {
   "cell_type": "code",
   "execution_count": 22,
   "id": "36f045e4",
   "metadata": {},
   "outputs": [
    {
     "name": "stdout",
     "output_type": "stream",
     "text": [
      "4\n"
     ]
    }
   ],
   "source": [
    "#Count the total number of word in given sentense(string) withought using function\n",
    "s=\"Sagar Chaudhari Chetan Salunke\"\n",
    "l=len(s)\n",
    "c=1\n",
    "for i in range(l):\n",
    "    if(s[i]==' '):\n",
    "        c=c+1\n",
    "print(c)\n",
    "\n"
   ]
  },
  {
   "cell_type": "markdown",
   "id": "eed006fc",
   "metadata": {},
   "source": [
    "# Methods of reversing the string"
   ]
  },
  {
   "cell_type": "markdown",
   "id": "4a3c0220",
   "metadata": {},
   "source": [
    "# Loop"
   ]
  },
  {
   "cell_type": "markdown",
   "id": "649bc008",
   "metadata": {},
   "source": [
    "\n",
    "# 1. "
   ]
  },
  {
   "cell_type": "code",
   "execution_count": 7,
   "id": "aaac7a68",
   "metadata": {},
   "outputs": [
    {
     "name": "stdout",
     "output_type": "stream",
     "text": [
      "['C', 'h', 'e', 't', 'a', 'n']\n",
      "natehC\n"
     ]
    }
   ],
   "source": [
    "s=\"Chetan\"\n",
    "l=list(s)\n",
    "print(l)\n",
    "l.reverse()\n",
    "s=''\n",
    "for i in l:\n",
    "    s=s+str(i)\n",
    "print(s)  \n",
    "    \n",
    "\n"
   ]
  },
  {
   "cell_type": "markdown",
   "id": "2fb03d7c",
   "metadata": {},
   "source": [
    "# 2.\n",
    "\n"
   ]
  },
  {
   "cell_type": "code",
   "execution_count": 18,
   "id": "69cb6c15",
   "metadata": {},
   "outputs": [],
   "source": [
    "s=\"Chetan\"\n",
    "sr=''\n",
    "for i in s:\n",
    "    sr=i+sr\n",
    "    "
   ]
  },
  {
   "cell_type": "code",
   "execution_count": 19,
   "id": "1ed4ea58",
   "metadata": {},
   "outputs": [
    {
     "data": {
      "text/plain": [
       "'natehC'"
      ]
     },
     "execution_count": 19,
     "metadata": {},
     "output_type": "execute_result"
    }
   ],
   "source": [
    "sr"
   ]
  },
  {
   "cell_type": "markdown",
   "id": "82baf9ef",
   "metadata": {},
   "source": [
    "# Slicing"
   ]
  },
  {
   "cell_type": "markdown",
   "id": "fa2cc00c",
   "metadata": {},
   "source": [
    "# 3."
   ]
  },
  {
   "cell_type": "code",
   "execution_count": 39,
   "id": "bb4ef8c6",
   "metadata": {},
   "outputs": [],
   "source": [
    "s=\"Chetan\"\n",
    "s=s[len(s)::-1]"
   ]
  },
  {
   "cell_type": "code",
   "execution_count": 40,
   "id": "652de853",
   "metadata": {},
   "outputs": [
    {
     "data": {
      "text/plain": [
       "'natehC'"
      ]
     },
     "execution_count": 40,
     "metadata": {},
     "output_type": "execute_result"
    }
   ],
   "source": [
    "s"
   ]
  },
  {
   "cell_type": "markdown",
   "id": "fc38db0f",
   "metadata": {},
   "source": [
    "# 4."
   ]
  },
  {
   "cell_type": "code",
   "execution_count": 41,
   "id": "2ed5bde2",
   "metadata": {},
   "outputs": [
    {
     "data": {
      "text/plain": [
       "'natehC'"
      ]
     },
     "execution_count": 41,
     "metadata": {},
     "output_type": "execute_result"
    }
   ],
   "source": [
    "s=\"Chetan\"\n",
    "s=s[::-1]\n",
    "s"
   ]
  },
  {
   "cell_type": "markdown",
   "id": "f39c656e",
   "metadata": {},
   "source": [
    "# Join function"
   ]
  },
  {
   "cell_type": "markdown",
   "id": "e7ac1406",
   "metadata": {},
   "source": [
    "# 5."
   ]
  },
  {
   "cell_type": "code",
   "execution_count": 5,
   "id": "68fe26cb",
   "metadata": {},
   "outputs": [
    {
     "data": {
      "text/plain": [
       "'natehC'"
      ]
     },
     "execution_count": 5,
     "metadata": {},
     "output_type": "execute_result"
    }
   ],
   "source": [
    "s=\"Chetan\"\n",
    "''.join(reversed(s))"
   ]
  },
  {
   "cell_type": "markdown",
   "id": "d00730dc",
   "metadata": {},
   "source": [
    "## compare the first string using the reverse sort two other."
   ]
  },
  {
   "cell_type": "code",
   "execution_count": 1,
   "id": "81d31cdb",
   "metadata": {},
   "outputs": [
    {
     "name": "stdout",
     "output_type": "stream",
     "text": [
      "zkb\n",
      "Yes\n"
     ]
    }
   ],
   "source": [
    "input1='zbk'\n",
    "input2='zkb'\n",
    "d=sorted(input1)\n",
    "d.reverse()\n",
    "t=''\n",
    "for i in d:\n",
    "    t=t+i\n",
    "print(t)\n",
    "if t==input2:\n",
    "    print(\"Yes\")\n",
    "else:\n",
    "    print(\"False\")"
   ]
  },
  {
   "cell_type": "code",
   "execution_count": null,
   "id": "b5c7f232",
   "metadata": {},
   "outputs": [
    {
     "name": "stdout",
     "output_type": "stream",
     "text": [
      "\n",
      "aj\n"
     ]
    }
   ],
   "source": [
    "a=input()\n",
    "b=input()\n",
    "if sorted(a)==sorted(b):\n",
    "    print('s')\n",
    "else:\n",
    "    print('n')"
   ]
  },
  {
   "cell_type": "code",
   "execution_count": 1,
   "id": "a8b46df5",
   "metadata": {},
   "outputs": [
    {
     "ename": "NameError",
     "evalue": "name 'sorted1' is not defined",
     "output_type": "error",
     "traceback": [
      "\u001b[1;31m---------------------------------------------------------------------------\u001b[0m",
      "\u001b[1;31mNameError\u001b[0m                                 Traceback (most recent call last)",
      "\u001b[1;32m<ipython-input-1-bd84e2187cd7>\u001b[0m in \u001b[0;36m<module>\u001b[1;34m\u001b[0m\n\u001b[1;32m----> 1\u001b[1;33m \u001b[0msorted1\u001b[0m\u001b[1;33m(\u001b[0m\u001b[0minput1\u001b[0m\u001b[1;33m)\u001b[0m\u001b[1;33m\u001b[0m\u001b[1;33m\u001b[0m\u001b[0m\n\u001b[0m",
      "\u001b[1;31mNameError\u001b[0m: name 'sorted1' is not defined"
     ]
    }
   ],
   "source": []
  },
  {
   "cell_type": "code",
   "execution_count": null,
   "id": "158307d9",
   "metadata": {},
   "outputs": [],
   "source": []
  }
 ],
 "metadata": {
  "kernelspec": {
   "display_name": "Python 3",
   "language": "python",
   "name": "python3"
  },
  "language_info": {
   "codemirror_mode": {
    "name": "ipython",
    "version": 3
   },
   "file_extension": ".py",
   "mimetype": "text/x-python",
   "name": "python",
   "nbconvert_exporter": "python",
   "pygments_lexer": "ipython3",
   "version": "3.8.8"
  }
 },
 "nbformat": 4,
 "nbformat_minor": 5
}
