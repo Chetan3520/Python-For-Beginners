{
 "cells": [
  {
   "cell_type": "markdown",
   "id": "a5c5fdc8",
   "metadata": {},
   "source": [
    "# **Fuctions of Tuple**"
   ]
  },
  {
   "cell_type": "markdown",
   "id": "ba0b807b",
   "metadata": {},
   "source": [
    "### immutable data Structure\n"
   ]
  },
  {
   "cell_type": "markdown",
   "id": "3b8fe2bf",
   "metadata": {},
   "source": [
    "### ordered indexing and slicing\n"
   ]
  },
  {
   "cell_type": "code",
   "execution_count": 1,
   "id": "54b1d08c",
   "metadata": {},
   "outputs": [
    {
     "name": "stdout",
     "output_type": "stream",
     "text": [
      "(20, 30, 40, 50)\n",
      "type of the data structure is: <class 'tuple'>\n",
      "(20, 30, 40, 50, 1, 2, 3, 4, 5)\n"
     ]
    }
   ],
   "source": [
    "\n",
    "t=(20,30,40,50)\n",
    "t1=(1,2,3,4,5)\n",
    "print(t)\n",
    "print(\"type of the data structure is:\",type(t))\n",
    "print(t+t1)\n"
   ]
  },
  {
   "cell_type": "code",
   "execution_count": 14,
   "id": "acdbecd5",
   "metadata": {},
   "outputs": [
    {
     "name": "stdout",
     "output_type": "stream",
     "text": [
      "20\n",
      "50\n",
      "(20, 30, 40)\n",
      "(20, 30, 40, 50)\n",
      "(20, 30, 40)\n"
     ]
    }
   ],
   "source": [
    "t=(20,30,40,50)\n",
    "#first element\n",
    "print(t[0])\n",
    "#last element\n",
    "print(t[-1])\n",
    "print(t[:3]) #printing first three element\n",
    "print(t[:len(t)])#priting element from first to last\n",
    "print(t[0:3]) #printing first three element"
   ]
  },
  {
   "cell_type": "markdown",
   "id": "a59caf84",
   "metadata": {},
   "source": [
    "### **#convert tuple to list**\n"
   ]
  },
  {
   "cell_type": "code",
   "execution_count": 5,
   "id": "4e0d441b",
   "metadata": {},
   "outputs": [
    {
     "name": "stdout",
     "output_type": "stream",
     "text": [
      "<class 'list'>\n"
     ]
    }
   ],
   "source": [
    "t=(20,30,40,50)\n",
    "li=list(t)\n",
    "print(type(li))\n"
   ]
  },
  {
   "cell_type": "markdown",
   "id": "69569a1d",
   "metadata": {},
   "source": [
    "### **#for information about tuple**"
   ]
  },
  {
   "cell_type": "code",
   "execution_count": 3,
   "id": "dc31098c",
   "metadata": {},
   "outputs": [],
   "source": [
    "#help(tuple)"
   ]
  },
  {
   "cell_type": "markdown",
   "id": "12ce3144",
   "metadata": {},
   "source": [
    "### **#deleting the tuple**"
   ]
  },
  {
   "cell_type": "code",
   "execution_count": 10,
   "id": "60318a0c",
   "metadata": {},
   "outputs": [
    {
     "name": "stdout",
     "output_type": "stream",
     "text": [
      "(12, 34, 2, 5, 6, 23, 56)\n"
     ]
    }
   ],
   "source": [
    "a=(12,34,2,5,6,23,56)\n",
    "print(a)\n",
    "del(a)\n",
    "#print(a) : error becouse it deleted early"
   ]
  },
  {
   "cell_type": "markdown",
   "id": "4f824ed2",
   "metadata": {},
   "source": [
    "### **#Reversing tuple**"
   ]
  },
  {
   "cell_type": "code",
   "execution_count": 11,
   "id": "9752cf00",
   "metadata": {},
   "outputs": [
    {
     "name": "stdout",
     "output_type": "stream",
     "text": [
      "(10, 8.5, 10, 'Yogesh', 'Sagar', 'chetan')\n"
     ]
    }
   ],
   "source": [
    "t=(\"chetan\",\"Sagar\",\"Yogesh\",10,8.5,10)\n",
    "print(t[::-1])"
   ]
  },
  {
   "cell_type": "markdown",
   "id": "2e1a6f9e",
   "metadata": {},
   "source": [
    "### **#Accesing using loop**"
   ]
  },
  {
   "cell_type": "code",
   "execution_count": 12,
   "id": "49c380dd",
   "metadata": {},
   "outputs": [
    {
     "name": "stdout",
     "output_type": "stream",
     "text": [
      "chetan\n",
      "Sagar\n",
      "Yogesh\n",
      "10\n",
      "8.5\n",
      "10\n"
     ]
    }
   ],
   "source": [
    "t=(\"chetan\",\"Sagar\",\"Yogesh\",10,8.5,10)\n",
    "for i in t:\n",
    "    print(i)\n"
   ]
  },
  {
   "cell_type": "markdown",
   "id": "39633df2",
   "metadata": {},
   "source": [
    "**#Getting input from user**"
   ]
  },
  {
   "cell_type": "code",
   "execution_count": 37,
   "id": "01529baf",
   "metadata": {},
   "outputs": [
    {
     "name": "stdout",
     "output_type": "stream",
     "text": [
      "How many numbers user want in tuple2\n",
      "Enter the number1\n",
      "Enter the number2\n",
      "[1, 2]\n",
      "<class 'tuple'>\n"
     ]
    }
   ],
   "source": [
    "a=()\n",
    "b=list(a)\n",
    "n=int(input(\"How many numbers user want in tuple\"))\n",
    "for i in range(n):\n",
    "    b.append(int(input(\"Enter the number\")))\n",
    "print(b)\n",
    "a=tuple(b)\n",
    "print(type(a))"
   ]
  },
  {
   "cell_type": "markdown",
   "id": "0fa6d729",
   "metadata": {},
   "source": [
    "**#Repetation Operator**\n"
   ]
  },
  {
   "cell_type": "code",
   "execution_count": 16,
   "id": "59f6e96c",
   "metadata": {},
   "outputs": [
    {
     "name": "stdout",
     "output_type": "stream",
     "text": [
      "(23, 34, 56, 23, 34, 56, 23, 34, 56)\n"
     ]
    }
   ],
   "source": [
    "a=(23,34,56)\n",
    "c=3*a\n",
    "print(c)"
   ]
  },
  {
   "cell_type": "markdown",
   "id": "3cbe762e",
   "metadata": {},
   "source": [
    "**#Coping tuple()**"
   ]
  },
  {
   "cell_type": "code",
   "execution_count": 17,
   "id": "a81d7c86",
   "metadata": {},
   "outputs": [
    {
     "name": "stdout",
     "output_type": "stream",
     "text": [
      "2666244478400\n",
      "2666244478400\n"
     ]
    }
   ],
   "source": [
    "a=(23,34,56)\n",
    "b=a[0:len(a)]\n",
    "print(id(a))\n",
    "print(id(b))"
   ]
  },
  {
   "cell_type": "markdown",
   "id": "9eae0f67",
   "metadata": {},
   "source": [
    "**#Nested Tuple()**"
   ]
  },
  {
   "cell_type": "code",
   "execution_count": 20,
   "id": "ee30f3ff",
   "metadata": {},
   "outputs": [
    {
     "name": "stdout",
     "output_type": "stream",
     "text": [
      "30\n",
      "10\n",
      "50\n"
     ]
    }
   ],
   "source": [
    " a=((10,20,30),(40,50))\n",
    "print(a[0][2])\n",
    "print(a[0][0])\n",
    "print(a[1][1])"
   ]
  },
  {
   "cell_type": "markdown",
   "id": "fba70e32",
   "metadata": {},
   "source": [
    "**#Nested Tuple Using For Loop**"
   ]
  },
  {
   "cell_type": "code",
   "execution_count": 31,
   "id": "20110287",
   "metadata": {},
   "outputs": [
    {
     "name": "stdout",
     "output_type": "stream",
     "text": [
      "0 10\n",
      "1 20\n",
      "2 30\n",
      "3 0 50\n",
      "3 1 60\n"
     ]
    }
   ],
   "source": [
    "a=(10,20,30,(50,60))\n",
    "for i in range(len(a)):\n",
    "    if(type(a[i]) is tuple):\n",
    "        if(len(a[i]) > 1):\n",
    "            for j in range(len(a[i])):\n",
    "                print(i,j,a[i][j])\n",
    "    else:\n",
    "        print(i,a[i])"
   ]
  },
  {
   "cell_type": "markdown",
   "id": "f758dfe1",
   "metadata": {},
   "source": [
    "**#Passing Tuple to the Function**\n"
   ]
  },
  {
   "cell_type": "code",
   "execution_count": 38,
   "id": "567f3e7e",
   "metadata": {},
   "outputs": [
    {
     "name": "stdout",
     "output_type": "stream",
     "text": [
      "('Chetan', 2, 45, 56, 'Pradip')\n",
      "<class 'tuple'>\n",
      "Chetan\n",
      "2\n",
      "45\n",
      "56\n",
      "Pradip\n"
     ]
    }
   ],
   "source": [
    "def show(tuple):\n",
    "    print(tuple)\n",
    "    print(type(tuple))\n",
    "    for i in tuple:\n",
    "        print(i)\n",
    "tu=(\"Chetan\",2,45,56,\"Pradip\")\n",
    "show(tu)"
   ]
  },
  {
   "cell_type": "markdown",
   "id": "e32d2f5e",
   "metadata": {},
   "source": [
    "**#list of the Tuples**\n"
   ]
  },
  {
   "cell_type": "code",
   "execution_count": 5,
   "id": "a8178cac",
   "metadata": {},
   "outputs": [
    {
     "name": "stdout",
     "output_type": "stream",
     "text": [
      "<class 'list'> <class 'list'>\n",
      "<class 'tuple'>\n",
      "<class 'tuple'>\n"
     ]
    }
   ],
   "source": [
    "a=[10,20,(30,20)]\n",
    "b=[\"Chetan\",(8,12)]\n",
    "print(type(a),type(b))\n",
    "print(type(a[2]))\n",
    "print(type(b[1]))"
   ]
  },
  {
   "cell_type": "code",
   "execution_count": 12,
   "id": "1fabfe92",
   "metadata": {},
   "outputs": [
    {
     "name": "stdout",
     "output_type": "stream",
     "text": [
      "Original [10, 20, 30, (40, 50)]\n",
      "After append [10, 20, 30, (40, 50), (60, 70)]\n"
     ]
    }
   ],
   "source": [
    "a=[10,20,30,(40,50)]\n",
    "print(\"Original\",a)\n",
    "a.append((60,70))\n",
    "print(\"After append\",a)"
   ]
  },
  {
   "cell_type": "code",
   "execution_count": 16,
   "id": "7691d55b",
   "metadata": {},
   "outputs": [
    {
     "name": "stdout",
     "output_type": "stream",
     "text": [
      "0 10\n",
      "1 20\n",
      "2 30\n",
      "3 0 40\n",
      "3 1 50\n",
      "4 0 10\n",
      "4 1 20\n",
      "4 2 30\n"
     ]
    }
   ],
   "source": [
    "a=[10,20,30,(40,50),(10,20,30)]\n",
    "for i in range(len(a)):\n",
    "    if(type(a[i]) is tuple):\n",
    "        if(len(a[i])>1):\n",
    "            for j in range(len(a[i])):\n",
    "                print(i,j,a[i][j])\n",
    "    else:\n",
    "        print(i,a[i])\n"
   ]
  },
  {
   "cell_type": "markdown",
   "id": "eb322548",
   "metadata": {},
   "source": [
    "**#Tuple of List**"
   ]
  },
  {
   "cell_type": "code",
   "execution_count": 21,
   "id": "5ff90738",
   "metadata": {},
   "outputs": [
    {
     "name": "stdout",
     "output_type": "stream",
     "text": [
      "(10, 20, [30, 40])\n",
      "<class 'tuple'>\n",
      "(10, 20, [90, 40, 'Chetan'])\n"
     ]
    }
   ],
   "source": [
    "a=(10,20,[30,40])\n",
    "print(a)\n",
    "print(type(a))\n",
    "a[2][0]=90 #here assinning not for the tuple(immutable) but for the list in tuple.\n",
    "a[2].append(\"Chetan\") #a[2] is list so we can also perform the append operation\n",
    "print(a)"
   ]
  },
  {
   "cell_type": "code",
   "execution_count": null,
   "id": "8a728abc",
   "metadata": {},
   "outputs": [],
   "source": []
  }
 ],
 "metadata": {
  "kernelspec": {
   "display_name": "Python 3",
   "language": "python",
   "name": "python3"
  },
  "language_info": {
   "codemirror_mode": {
    "name": "ipython",
    "version": 3
   },
   "file_extension": ".py",
   "mimetype": "text/x-python",
   "name": "python",
   "nbconvert_exporter": "python",
   "pygments_lexer": "ipython3",
   "version": "3.8.8"
  }
 },
 "nbformat": 4,
 "nbformat_minor": 5
}
