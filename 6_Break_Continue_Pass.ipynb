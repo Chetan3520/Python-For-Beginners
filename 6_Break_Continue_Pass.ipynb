{
 "cells": [
  {
   "cell_type": "markdown",
   "id": "fba33e4a",
   "metadata": {},
   "source": [
    "# Break Statement:\n",
    "it is used to jump out  of  the loop to process the next statement in the program.\n",
    "(if we dont want to execute further execution)\n",
    "\n",
    "\n",
    "\n",
    "\n"
   ]
  },
  {
   "cell_type": "markdown",
   "id": "a9ccd048",
   "metadata": {},
   "source": [
    "#Continue Statement:\n",
    "it is used in the loop to go back to the beginning of the loop and skip the iteration under condition.\n",
    "(If we dont want to execute perticular iteration)\n",
    "\n"
   ]
  },
  {
   "cell_type": "markdown",
   "id": "0d466011",
   "metadata": {},
   "source": [
    "#Pass Statement:   This statement used to do nothing.It can be used inside a loop or if statement to represent no Operation .Pass is useful when we need statement syntactically correct but we do not want to do any operation(if we dont want to execute all execution of uder condition or loop)"
   ]
  },
  {
   "cell_type": "code",
   "execution_count": 4,
   "id": "269c2ee2",
   "metadata": {},
   "outputs": [
    {
     "name": "stdout",
     "output_type": "stream",
     "text": [
      "0\n",
      "1\n",
      "2\n",
      "3\n",
      "4\n",
      "5\n"
     ]
    }
   ],
   "source": [
    "for i in range(10):\n",
    "    if(i==6):\n",
    "        break #break the loop when value of i will 6.\n",
    "    print(i)\n"
   ]
  },
  {
   "cell_type": "markdown",
   "id": "c9c6fd11",
   "metadata": {},
   "source": [
    " #here first value of i is printed then the operation of break exicuted"
   ]
  },
  {
   "cell_type": "code",
   "execution_count": 1,
   "id": "4bc2360c",
   "metadata": {},
   "outputs": [
    {
     "name": "stdout",
     "output_type": "stream",
     "text": [
      "Enter a number: 5\n",
      "5 is a prime number\n"
     ]
    }
   ],
   "source": [
    "n = int(input(\"Enter a number: \"))\n",
    "\n",
    "if n > 1:\n",
    "    for i in range(2,n):\n",
    "        if (n % i) == 0:\n",
    "            print(n,\"is not a prime number\")\n",
    "            break\n",
    "    else:\n",
    "        print(n,\"is a prime number\")"
   ]
  },
  {
   "cell_type": "markdown",
   "id": "b8d9b1c6",
   "metadata": {},
   "source": [
    "# Continue Statement:"
   ]
  },
  {
   "cell_type": "markdown",
   "id": "4db1c7bc",
   "metadata": {},
   "source": [
    "### continue the loop when value of i will 6.means it will not execute when value of i will 6 and it will continue  the loop"
   ]
  },
  {
   "cell_type": "code",
   "execution_count": 21,
   "id": "98cd4061",
   "metadata": {},
   "outputs": [
    {
     "name": "stdout",
     "output_type": "stream",
     "text": [
      "0\n",
      "1\n",
      "2\n",
      "3\n",
      "4\n",
      "5\n",
      "7\n",
      "8\n",
      "9\n"
     ]
    }
   ],
   "source": [
    "\n",
    "for i in range(10):\n",
    "    if(i==6):\n",
    "         continue \n",
    "    print(i)\n"
   ]
  },
  {
   "cell_type": "markdown",
   "id": "d9c3d0b7",
   "metadata": {},
   "source": [
    "# Pass Statement`"
   ]
  },
  {
   "cell_type": "markdown",
   "id": "3c10cf8b",
   "metadata": {},
   "source": [
    "#here pass work when conditon is true it means code under condition not executing and rest of the code is executing"
   ]
  },
  {
   "cell_type": "code",
   "execution_count": 22,
   "id": "739980d3",
   "metadata": {},
   "outputs": [
    {
     "name": "stdout",
     "output_type": "stream",
     "text": [
      "Rest of the code\n"
     ]
    }
   ],
   "source": [
    "if 5>3:\n",
    "    pass\n",
    "else:\n",
    "    print(\"Else Part\")\n",
    "print(\"Rest of the code\")\n"
   ]
  },
  {
   "cell_type": "code",
   "execution_count": null,
   "id": "73f53cf6",
   "metadata": {},
   "outputs": [],
   "source": []
  }
 ],
 "metadata": {
  "kernelspec": {
   "display_name": "Python 3",
   "language": "python",
   "name": "python3"
  },
  "language_info": {
   "codemirror_mode": {
    "name": "ipython",
    "version": 3
   },
   "file_extension": ".py",
   "mimetype": "text/x-python",
   "name": "python",
   "nbconvert_exporter": "python",
   "pygments_lexer": "ipython3",
   "version": "3.8.8"
  }
 },
 "nbformat": 4,
 "nbformat_minor": 5
}
