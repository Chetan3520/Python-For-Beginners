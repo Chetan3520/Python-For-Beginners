{
 "cells": [
  {
   "cell_type": "code",
   "execution_count": 1,
   "id": "49033fd9",
   "metadata": {},
   "outputs": [
    {
     "name": "stdout",
     "output_type": "stream",
     "text": [
      "['Toshit', 'Chetan', 'Sagar', 'yogesh', 'Nishant', 'Pradip']\n"
     ]
    }
   ],
   "source": [
    "import random \n",
    "a=['Chetan','yogesh','Sagar','Pradip','Toshit','Nishant']\n",
    "random.shuffle(a)\n",
    "print(a)\n"
   ]
  },
  {
   "cell_type": "code",
   "execution_count": 12,
   "id": "63b3d1fe",
   "metadata": {},
   "outputs": [
    {
     "name": "stdout",
     "output_type": "stream",
     "text": [
      "0.7446225732710985\n",
      "0.4483565605118621\n",
      "0.795059313218058\n",
      "0.1359799950860049\n",
      "0.4845965725681982\n",
      "0.398882825997364\n",
      "0.7618500478297248\n",
      "0.17498865975700673\n",
      "0.6142243819658383\n",
      "0.8649758771969165\n"
     ]
    }
   ],
   "source": [
    "#Generating Random Numbers in Python\n",
    "import random \n",
    "for i in range(10):\n",
    "    print(random.random())\n",
    "    \n"
   ]
  },
  {
   "cell_type": "code",
   "execution_count": 14,
   "id": "7d2cf46c",
   "metadata": {},
   "outputs": [
    {
     "name": "stdout",
     "output_type": "stream",
     "text": [
      "80\n",
      "16\n",
      "64\n",
      "96\n",
      "4\n",
      "57\n",
      "26\n",
      "27\n",
      "97\n",
      "4\n",
      "39\n",
      "65\n",
      "40\n",
      "98\n",
      "66\n",
      "18\n",
      "21\n",
      "37\n",
      "19\n",
      "64\n"
     ]
    }
   ],
   "source": [
    "#Generating Random Numbers with specific Range\n",
    "import random\n",
    "for i in range(20):\n",
    "    d=random.randrange(1,100) #gives Integer values\n",
    "    print(d)\n"
   ]
  },
  {
   "cell_type": "code",
   "execution_count": 16,
   "id": "275bf0ca",
   "metadata": {},
   "outputs": [
    {
     "name": "stdout",
     "output_type": "stream",
     "text": [
      "92.76285535657567\n",
      "81.56744380298824\n",
      "13.561605968584217\n",
      "11.13223007149008\n",
      "34.982900420012456\n",
      "45.622770796197926\n",
      "91.85614082937984\n",
      "60.69134933166462\n",
      "34.304013784094806\n",
      "24.61052052254904\n",
      "20.425211429721518\n",
      "65.99454182536508\n",
      "89.18902071155938\n",
      "88.47348706318972\n",
      "72.61854843760734\n",
      "92.70852014019194\n",
      "79.37976954485808\n",
      "17.629311459472596\n",
      "58.5946031045935\n",
      "77.38937673965826\n",
      "92.79435553005855\n",
      "49.77804116845312\n",
      "96.61636801359077\n",
      "21.452199635451773\n",
      "49.0357417097523\n",
      "16.939200719453122\n",
      "37.78899402160213\n",
      "15.492379150043844\n",
      "72.65596766031817\n",
      "50.16850337155819\n"
     ]
    }
   ],
   "source": [
    "#generating Random Numbers from Uniform Distribution\n",
    "import random\n",
    "for i in range(30):\n",
    "    u=random.uniform(3,100) #Gives Float values\n",
    "    print(u)"
   ]
  },
  {
   "cell_type": "code",
   "execution_count": 22,
   "id": "0939ea15",
   "metadata": {},
   "outputs": [
    {
     "name": "stdout",
     "output_type": "stream",
     "text": [
      "6.281536393331011\n",
      "11.044979172769722\n",
      "11.155887341759978\n",
      "7.92600629407652\n",
      "11.356229141779842\n",
      "3.082944922410184\n",
      "11.789480293423873\n",
      "10.968501413829161\n",
      "11.562186066722775\n",
      "14.192197194526969\n"
     ]
    }
   ],
   "source": [
    "#Generating Random Numbers From Normal Distribution\n",
    "import random\n",
    "for data in range(10):\n",
    "    N=random.normalvariate(10,3)\n",
    "    print(N)"
   ]
  },
  {
   "cell_type": "code",
   "execution_count": 30,
   "id": "cf2f2c4f",
   "metadata": {},
   "outputs": [
    {
     "name": "stdout",
     "output_type": "stream",
     "text": [
      "42.1193185271216\n",
      "29.87641628270992\n",
      "25.565686798497683\n",
      "28.975754277912475\n",
      "33.15686027354569\n",
      "22.60491576074717\n",
      "32.706286243215516\n",
      "18.943282476422183\n",
      "46.71548938206007\n",
      "21.377910296957094\n"
     ]
    }
   ],
   "source": [
    "#Generating Random Numbers From gamma Distribution\n",
    "import random\n",
    "for data in range(10):\n",
    "    N=random.gammavariate(10,3)\n",
    "    print(N)"
   ]
  },
  {
   "cell_type": "code",
   "execution_count": 40,
   "id": "66fec911",
   "metadata": {},
   "outputs": [
    {
     "name": "stdout",
     "output_type": "stream",
     "text": [
      "[ 9.27033026  3.5688203   2.06838993 10.80837324  1.6093566  18.98363358\n",
      "  2.25295346  1.34214788  6.48141721 16.15418752 12.11141058  4.85655434\n",
      "  2.04661858  8.33533612  0.61274364  6.59371974  3.4531403   0.6162853\n",
      "  4.0340753   6.99669212]\n"
     ]
    }
   ],
   "source": [
    "#Generating Random Numbers From exponential Distribution Using Numpy\n",
    "import random\n",
    "import numpy\n",
    "N=numpy.random.exponential(10,20)\n",
    "print(N)"
   ]
  },
  {
   "cell_type": "code",
   "execution_count": 41,
   "id": "a0ea0a92",
   "metadata": {},
   "outputs": [
    {
     "name": "stdout",
     "output_type": "stream",
     "text": [
      "[13.45696612 10.20225578 13.45850965  7.43819924  9.14230193 10.78606721\n",
      " 11.45968868  9.4625201  10.70202687 10.61629477]\n"
     ]
    }
   ],
   "source": [
    "#Generating Random Numbers From Normal Distribution Using Numpy\n",
    "import random\n",
    "import numpy\n",
    "N=numpy.random.normal(10,2,10)\n",
    "print(N)"
   ]
  },
  {
   "cell_type": "code",
   "execution_count": 42,
   "id": "073e354d",
   "metadata": {},
   "outputs": [
    {
     "name": "stdout",
     "output_type": "stream",
     "text": [
      "[10.79289327 12.7077455  12.08088002 15.86711637 17.62683578 15.06906136\n",
      " 15.11986824 17.88519813 19.77577513 18.91667284]\n"
     ]
    }
   ],
   "source": [
    "#Generating Random Numbers From uniform Distribution Using Numpy\n",
    "import random\n",
    "import numpy\n",
    "N=numpy.random.uniform(10,20,10)\n",
    "print(N)"
   ]
  },
  {
   "cell_type": "code",
   "execution_count": 44,
   "id": "489ba98b",
   "metadata": {},
   "outputs": [
    {
     "name": "stdout",
     "output_type": "stream",
     "text": [
      "[293.26062879 229.00622886 237.07968969 147.1286522  253.23795913\n",
      " 228.79645012 150.19814965 252.17987913 176.79853278 199.27468656]\n"
     ]
    }
   ],
   "source": [
    "#Generating Random Numbers From Gamma Distribution Using Numpy\n",
    "import random\n",
    "import numpy\n",
    "N=numpy.random.gamma(10,20,10)\n",
    "print(N)"
   ]
  },
  {
   "cell_type": "code",
   "execution_count": 51,
   "id": "85bf147b",
   "metadata": {},
   "outputs": [
    {
     "data": {
      "image/png": "[encoded data removed]",
      "text/plain": [
       "<Figure size 432x288 with 1 Axes>"
      ]
     },
     "metadata": {
      "needs_background": "light"
     },
     "output_type": "display_data"
    }
   ],
   "source": [
    "#Generating Random Numbers From Gamma Distribution Using Numpy\n",
    "import random as random\n",
    "import numpy as np\n",
    "import matplotlib.pyplot as plt\n",
    "N=np.random.exponential(1001.123,10000)\n",
    "p=np.random.exponential(N,10000)\n",
    "plt.hist(p,14,density=True)\n",
    "plt.show()\n"
   ]
  },
  {
   "cell_type": "code",
   "execution_count": null,
   "id": "9cb14a8a",
   "metadata": {},
   "outputs": [],
   "source": []
  },
  {
   "cell_type": "code",
   "execution_count": null,
   "id": "77770b75",
   "metadata": {},
   "outputs": [],
   "source": []
  }
 ],
 "metadata": {
  "kernelspec": {
   "display_name": "Python 3",
   "language": "python",
   "name": "python3"
  },
  "language_info": {
   "codemirror_mode": {
    "name": "ipython",
    "version": 3
   },
   "file_extension": ".py",
   "mimetype": "text/x-python",
   "name": "python",
   "nbconvert_exporter": "python",
   "pygments_lexer": "ipython3",
   "version": "3.8.8"
  }
 },
 "nbformat": 4,
 "nbformat_minor": 5
}
