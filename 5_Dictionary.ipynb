{
 "cells": [
  {
   "cell_type": "markdown",
   "id": "7feeb3e4",
   "metadata": {},
   "source": [
    "**#Features Of the Dictionary**"
   ]
  },
  {
   "cell_type": "markdown",
   "id": "c90aac4c",
   "metadata": {},
   "source": [
    "\n",
    "#Dictionaries represents a group of elements in the form of key : value pairs.\n"
   ]
  },
  {
   "cell_type": "markdown",
   "id": "216c48fa",
   "metadata": {},
   "source": [
    "#Dictionaries are pairs of key and value"
   ]
  },
  {
   "cell_type": "markdown",
   "id": "0e58d33d",
   "metadata": {},
   "source": [
    "#Dictionary in python is an unorderd collection.\n"
   ]
  },
  {
   "cell_type": "markdown",
   "id": "8d61d8a3",
   "metadata": {},
   "source": [
    "#Dictionries are Mutable so we can Modify it's items, withought changing their identity.\n"
   ]
  },
  {
   "cell_type": "markdown",
   "id": "1a54b4e7",
   "metadata": {},
   "source": [
    "#Dictionaries are Represent using curly bracket {}\n"
   ]
  },
  {
   "cell_type": "markdown",
   "id": "c07c2bb5",
   "metadata": {},
   "source": [
    "#Dictionary is created in the form of key value pair where keys can't be repeated and must be immutable and values can be of any datatype and be duplicate\n"
   ]
  },
  {
   "cell_type": "markdown",
   "id": "032c79f3",
   "metadata": {},
   "source": [
    "***Rules of the Keys***"
   ]
  },
  {
   "cell_type": "markdown",
   "id": "8150adf4",
   "metadata": {},
   "source": [
    "#keys are case sensative"
   ]
  },
  {
   "cell_type": "markdown",
   "id": "5e4ea9b2",
   "metadata": {},
   "source": [
    "#keys should be unique in that perticular dictionary.if we mention same key again , the old key will be overwritten"
   ]
  },
  {
   "cell_type": "markdown",
   "id": "6b2d26cb",
   "metadata": {},
   "source": [
    "#keys should be immutable type ex:- integer , string , tuple"
   ]
  },
  {
   "cell_type": "markdown",
   "id": "3ac8f9ee",
   "metadata": {},
   "source": [
    "#We can't use List or Dictionary as key"
   ]
  },
  {
   "cell_type": "markdown",
   "id": "393099b9",
   "metadata": {},
   "source": [
    "**Accessing Dictinary**"
   ]
  },
  {
   "cell_type": "code",
   "execution_count": 6,
   "id": "8213daa1",
   "metadata": {},
   "outputs": [
    {
     "name": "stdout",
     "output_type": "stream",
     "text": [
      "10\n",
      "9.5\n",
      "Yogesh\n"
     ]
    }
   ],
   "source": [
    "d={\"Chetan\":10,\"Yogesh\":11,\"Sagar\":9.5}\n",
    "d1={10:\"Chetan\",11:\"Yogesh\",9.5:\"Sagar\"}\n",
    "print(d[\"Chetan\"])\n",
    "print(d[\"Sagar\"])\n",
    "print(d1[11])"
   ]
  },
  {
   "cell_type": "markdown",
   "id": "66a6fc55",
   "metadata": {},
   "source": [
    "**Modifying Dictionary**"
   ]
  },
  {
   "cell_type": "code",
   "execution_count": 17,
   "id": "887d5c5d",
   "metadata": {},
   "outputs": [
    {
     "name": "stdout",
     "output_type": "stream",
     "text": [
      "Before Modification\n",
      "{101: 'Rahul', 102: 'Raj', 103: 'Sonam'}\n",
      "1551964599296\n",
      "\n",
      "After Modification\n",
      "{101: 'Rahul', 102: 'Python', 103: 'Sonam'}\n",
      "1551964599296\n",
      "\n"
     ]
    }
   ],
   "source": [
    "st={101:'Rahul',102:'Raj',103:'Sonam'}\n",
    "print(\"Before Modification\")\n",
    "print(st)\n",
    "print(id(st))\n",
    "print()\n",
    "st[102]='Python'\n",
    "print(\"After Modification\")\n",
    "print(st)\n",
    "print(id(st))\n",
    "print()\n",
    "\n"
   ]
  },
  {
   "cell_type": "code",
   "execution_count": 3,
   "id": "43116681",
   "metadata": {},
   "outputs": [],
   "source": [
    "#dir(\"numpy\")"
   ]
  },
  {
   "cell_type": "code",
   "execution_count": 2,
   "id": "b1d489c5",
   "metadata": {},
   "outputs": [
    {
     "name": "stdout",
     "output_type": "stream",
     "text": [
      "2\n",
      "chetan\n",
      "10\n",
      "sagar\n"
     ]
    }
   ],
   "source": [
    "n = int(input())\n",
    "student_marks = {}\n",
    "for _ in range(n):\n",
    "    name, *line = input().split()\n",
    "    scores = list(map(float, line))\n",
    "    student_marks[name] = scores\n",
    "query_name = input()"
   ]
  },
  {
   "cell_type": "code",
   "execution_count": 6,
   "id": "cab86383",
   "metadata": {},
   "outputs": [
    {
     "ename": "AttributeError",
     "evalue": "'list' object has no attribute 'aver'",
     "output_type": "error",
     "traceback": [
      "\u001b[1;31m---------------------------------------------------------------------------\u001b[0m",
      "\u001b[1;31mAttributeError\u001b[0m                            Traceback (most recent call last)",
      "\u001b[1;32m<ipython-input-6-8d90fb83393d>\u001b[0m in \u001b[0;36m<module>\u001b[1;34m\u001b[0m\n\u001b[0;32m      1\u001b[0m \u001b[0ma\u001b[0m\u001b[1;33m=\u001b[0m\u001b[1;33m(\u001b[0m\u001b[1;33m[\u001b[0m\u001b[1;36m12\u001b[0m\u001b[1;33m,\u001b[0m\u001b[1;36m13\u001b[0m\u001b[1;33m,\u001b[0m\u001b[1;36m13\u001b[0m\u001b[1;33m]\u001b[0m\u001b[1;33m)\u001b[0m\u001b[1;33m\u001b[0m\u001b[1;33m\u001b[0m\u001b[0m\n\u001b[1;32m----> 2\u001b[1;33m \u001b[0mprint\u001b[0m\u001b[1;33m(\u001b[0m\u001b[0ma\u001b[0m\u001b[1;33m,\u001b[0m\u001b[0ma\u001b[0m\u001b[1;33m.\u001b[0m\u001b[0maver\u001b[0m\u001b[1;33m(\u001b[0m\u001b[1;33m)\u001b[0m\u001b[1;33m)\u001b[0m\u001b[1;33m\u001b[0m\u001b[1;33m\u001b[0m\u001b[0m\n\u001b[0m",
      "\u001b[1;31mAttributeError\u001b[0m: 'list' object has no attribute 'aver'"
     ]
    }
   ],
   "source": [
    "a=([12,13,13])\n",
    "print(a,a.aver())"
   ]
  },
  {
   "cell_type": "code",
   "execution_count": 1,
   "id": "3ec9d205",
   "metadata": {},
   "outputs": [
    {
     "name": "stdout",
     "output_type": "stream",
     "text": [
      "{101: 'Rahul', 102: 'Raj', 103: 'Sonam', 104: 'chetan'}\n"
     ]
    }
   ],
   "source": [
    "st={101:'Rahul',102:'Raj',103:'Sonam'}\n",
    "st[104]='chetan'\n",
    "print(st)"
   ]
  },
  {
   "cell_type": "code",
   "execution_count": 4,
   "id": "bd7c5938",
   "metadata": {},
   "outputs": [
    {
     "ename": "NameError",
     "evalue": "name 'avg' is not defined",
     "output_type": "error",
     "traceback": [
      "\u001b[1;31m---------------------------------------------------------------------------\u001b[0m",
      "\u001b[1;31mNameError\u001b[0m                                 Traceback (most recent call last)",
      "\u001b[1;32m<ipython-input-4-51de2591b9bd>\u001b[0m in \u001b[0;36m<module>\u001b[1;34m\u001b[0m\n\u001b[0;32m      1\u001b[0m \u001b[0mx\u001b[0m\u001b[1;33m=\u001b[0m\u001b[1;33m(\u001b[0m\u001b[1;36m1\u001b[0m\u001b[1;33m,\u001b[0m\u001b[1;36m2\u001b[0m\u001b[1;33m,\u001b[0m\u001b[1;36m3\u001b[0m\u001b[1;33m)\u001b[0m\u001b[1;33m\u001b[0m\u001b[1;33m\u001b[0m\u001b[0m\n\u001b[1;32m----> 2\u001b[1;33m \u001b[0mavg\u001b[0m\u001b[1;33m(\u001b[0m\u001b[0mx\u001b[0m\u001b[1;33m)\u001b[0m\u001b[1;33m\u001b[0m\u001b[1;33m\u001b[0m\u001b[0m\n\u001b[0m",
      "\u001b[1;31mNameError\u001b[0m: name 'avg' is not defined"
     ]
    }
   ],
   "source": [
    "import math\n",
    "x=(1,2,3)\n",
    "avg(x)"
   ]
  },
  {
   "cell_type": "code",
   "execution_count": null,
   "id": "38e4c5c3",
   "metadata": {},
   "outputs": [],
   "source": []
  }
 ],
 "metadata": {
  "kernelspec": {
   "display_name": "Python 3",
   "language": "python",
   "name": "python3"
  },
  "language_info": {
   "codemirror_mode": {
    "name": "ipython",
    "version": 3
   },
   "file_extension": ".py",
   "mimetype": "text/x-python",
   "name": "python",
   "nbconvert_exporter": "python",
   "pygments_lexer": "ipython3",
   "version": "3.8.8"
  }
 },
 "nbformat": 4,
 "nbformat_minor": 5
}
