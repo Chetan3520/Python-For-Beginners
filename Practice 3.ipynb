{
 "cells": [
  {
   "cell_type": "code",
   "execution_count": null,
   "id": "76c36c72",
   "metadata": {},
   "outputs": [],
   "source": [
    "n=int(input(\"enter the number\"))\n",
    "sum=0\n",
    "tem=n\n",
    "while(n>0):\n",
    "    r=n%10\n",
    "    fact=1\n",
    "    for i in range(1,r+1):\n",
    "        fact=fact*i\n",
    "    sum=sum+fact\n",
    "    n=n//10\n",
    "if(sum==tem):\n",
    "    print(\"Strog Number\")\n",
    "else:\n",
    "    print(\"Not Strong Number\")"
   ]
  },
  {
   "cell_type": "code",
   "execution_count": null,
   "id": "8a72c39c",
   "metadata": {},
   "outputs": [],
   "source": [
    "n=int(input(\"enter the number\"))\n",
    "sum=0\n",
    "tem=n\n",
    "while(n>0):\n",
    "    r=n%10\n",
    "    fact=1\n",
    "    for i in range(1,r+1):\n",
    "        fact=fact*i\n",
    "    sum=sum+fact\n",
    "if(sum==tem):\n",
    "    print(\"Strog Number\")\n",
    "else:\n",
    "    print(\"Not Strong Number\")"
   ]
  },
  {
   "cell_type": "code",
   "execution_count": null,
   "id": "ba9fae3a",
   "metadata": {},
   "outputs": [],
   "source": [
    "print(\"Chetan\")"
   ]
  },
  {
   "cell_type": "code",
   "execution_count": null,
   "id": "d15aa336",
   "metadata": {},
   "outputs": [],
   "source": [
    "n=int(input(\"enter the number\"))\n",
    "sum=0\n",
    "tem=n\n",
    "fact=1\n",
    "while(n>0):\n",
    "    r=n%10\n",
    "    import math\n",
    "    fact=math.factorial(r)\n",
    "    sum=sum+fact\n",
    "    n=n//10\n",
    "if(sum==tem):\n",
    "    print(\"Strong Number\")\n",
    "else:\n",
    "    print(\"Not Strong Number\")"
   ]
  }
 ],
 "metadata": {
  "kernelspec": {
   "display_name": "Python 3",
   "language": "python",
   "name": "python3"
  },
  "language_info": {
   "codemirror_mode": {
    "name": "ipython",
    "version": 3
   },
   "file_extension": ".py",
   "mimetype": "text/x-python",
   "name": "python",
   "nbconvert_exporter": "python",
   "pygments_lexer": "ipython3",
   "version": "3.8.8"
  }
 },
 "nbformat": 4,
 "nbformat_minor": 5
}
