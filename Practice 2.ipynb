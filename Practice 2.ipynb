{
 "cells": [
  {
   "cell_type": "markdown",
   "id": "b35ea805",
   "metadata": {},
   "source": [
    "## Reverse the Number given by user\n"
   ]
  },
  {
   "cell_type": "code",
   "execution_count": 2,
   "id": "747ff223",
   "metadata": {},
   "outputs": [
    {
     "name": "stdout",
     "output_type": "stream",
     "text": [
      "Enter the  Number123\n",
      "321"
     ]
    }
   ],
   "source": [
    "n1=int(input(\"Enter the  Number\"))\n",
    "while(n1!=0):\n",
    "    r=n1%10\n",
    "    n1=n1//10\n",
    "    print(r,end='')"
   ]
  },
  {
   "cell_type": "markdown",
   "id": "cea1dad3",
   "metadata": {},
   "source": [
    "### Reverse String (first -1 indicate string will start from last and 2nd -1 indicate srting will reduce by 1 )/*\n"
   ]
  },
  {
   "cell_type": "code",
   "execution_count": 5,
   "id": "ceaee3bb",
   "metadata": {},
   "outputs": [
    {
     "name": "stdout",
     "output_type": "stream",
     "text": [
      "Enter the stirngChetan\n",
      "natehC\n"
     ]
    }
   ],
   "source": [
    "s=input(\"Enter the stirng\")\n",
    "print(s[-1::-1])"
   ]
  },
  {
   "cell_type": "markdown",
   "id": "d460f0ad",
   "metadata": {},
   "source": [
    "### Swapping of two Integers\n"
   ]
  },
  {
   "cell_type": "code",
   "execution_count": 13,
   "id": "2289b131",
   "metadata": {},
   "outputs": [
    {
     "name": "stdout",
     "output_type": "stream",
     "text": [
      "Enter the first  Number1\n",
      "Enter the second  Number2\n",
      "Firsr Number= 2 Second= 1\n"
     ]
    }
   ],
   "source": [
    "#Swapping of two Integers\n",
    "n1=int(input(\"Enter the first  Number\"))\n",
    "n2=int(input(\"Enter the second  Number\"))\n",
    "c=n1\n",
    "n1=n2\n",
    "n2=c\n",
    "print(\"Firsr Number=\",n1,\"Second=\",n2)\n"
   ]
  },
  {
   "cell_type": "markdown",
   "id": "5357ff3e",
   "metadata": {},
   "source": [
    "### Swapping of two integers without Using third variable\n"
   ]
  },
  {
   "cell_type": "code",
   "execution_count": 22,
   "id": "5ffe113b",
   "metadata": {},
   "outputs": [
    {
     "name": "stdout",
     "output_type": "stream",
     "text": [
      "Enter the first  Number10\n",
      "Enter the second  Number20\n",
      "Firsr Number= 20 Second= 10\n"
     ]
    }
   ],
   "source": [
    "n1=int(input(\"Enter the first  Number\"))\n",
    "n2=int(input(\"Enter the second  Number\"))\n",
    "n1=n1+n2\n",
    "n2=n1-n2\n",
    "n1=n1-n2\n",
    "print(\"Firsr Number=\",n1,\"Second=\",n2)\n",
    "\n",
    "\n",
    "\n"
   ]
  },
  {
   "cell_type": "markdown",
   "id": "4f424ed3",
   "metadata": {},
   "source": [
    "## Armstorng Number\n"
   ]
  },
  {
   "cell_type": "code",
   "execution_count": 27,
   "id": "c1b9018c",
   "metadata": {},
   "outputs": [
    {
     "name": "stdout",
     "output_type": "stream",
     "text": [
      "enter the number407\n",
      "407\n",
      "This is Armstrong Number\n"
     ]
    }
   ],
   "source": [
    "#(sum of cube of degits in number is equal to that Number)\n",
    "n=int(input(\"enter the number\"))\n",
    "sum=0\n",
    "tem=n\n",
    "while(n>0):\n",
    "    r=n%10\n",
    "    sum=sum+(r*r*r)\n",
    "    n=n//10\n",
    "print(sum)\n",
    "if(sum==tem):\n",
    "    print(\"This is Armstrong Number\")\n",
    "else:\n",
    "    print(\"Not Armstrong Number\")\n",
    "    "
   ]
  },
  {
   "cell_type": "markdown",
   "id": "a2f0e3ef",
   "metadata": {},
   "source": [
    "## Palindrome Number\n"
   ]
  },
  {
   "cell_type": "code",
   "execution_count": 30,
   "id": "da1c05b5",
   "metadata": {},
   "outputs": [
    {
     "name": "stdout",
     "output_type": "stream",
     "text": [
      "enter the number123\n",
      "Not Palindrome Number\n"
     ]
    }
   ],
   "source": [
    "#(Reverse of the Number equal to that Number)\n",
    "n=int(input(\"enter the number\"))\n",
    "sum=0\n",
    "tem=n\n",
    "while(n>0):\n",
    "    r=n%10\n",
    "    sum=sum*10+r\n",
    "    n=n//10\n",
    "if(sum==tem):\n",
    "    print(\"palindrome Number\")\n",
    "else:\n",
    "    print(\"Not Palindrome Number\")\n",
    "    "
   ]
  },
  {
   "cell_type": "markdown",
   "id": "5d4741c9",
   "metadata": {},
   "source": [
    "## Strong Number"
   ]
  },
  {
   "cell_type": "code",
   "execution_count": null,
   "id": "f902e9f0",
   "metadata": {},
   "outputs": [
    {
     "name": "stdout",
     "output_type": "stream",
     "text": [
      "enter the number145\n"
     ]
    }
   ],
   "source": [
    "n=int(input(\"enter the number\"))\n",
    "sum=0\n",
    "tem=n\n",
    "while(n>0):\n",
    "    r=n%10\n",
    "    fact=1\n",
    "    for i in range(1,r+1):\n",
    "        fact=fact*i\n",
    "    sum=sum+fact\n",
    "if(sum==tem):\n",
    "    print(\"Strog Number\")\n",
    "else:\n",
    "    print(\"Not Strong Number\")"
   ]
  },
  {
   "cell_type": "markdown",
   "id": "91c8a88b",
   "metadata": {},
   "source": [
    "# Converting minutes into Hours.\n"
   ]
  },
  {
   "cell_type": "code",
   "execution_count": 6,
   "id": "8faf28ab",
   "metadata": {},
   "outputs": [
    {
     "name": "stdout",
     "output_type": "stream",
     "text": [
      "Enter the number13456\n",
      "Total Hours\n",
      "224:16\n"
     ]
    }
   ],
   "source": [
    "n=int(input(\"Enter the number\"))\n",
    "a=n//60\n",
    "b=n%60\n",
    "print(\"Total Hours\")\n",
    "print(a,end='')\n",
    "print(\":\",end='')\n",
    "print( b)"
   ]
  },
  {
   "cell_type": "code",
   "execution_count": 7,
   "id": "ddd86220",
   "metadata": {},
   "outputs": [
    {
     "name": "stdout",
     "output_type": "stream",
     "text": [
      "Enter the number145\n",
      "2:25\n"
     ]
    }
   ],
   "source": [
    "n=int(input(\"Enter the number\"))\n",
    "a=n//60\n",
    "b=a*60\n",
    "c=n-b\n",
    "print(a,end='')\n",
    "print(\":\",end='')\n",
    "print(c)"
   ]
  },
  {
   "cell_type": "code",
   "execution_count": 10,
   "id": "45f1c6dd",
   "metadata": {},
   "outputs": [
    {
     "name": "stdout",
     "output_type": "stream",
     "text": [
      "Enter the Number45\n",
      "Enter the second Number456\n",
      "sum 501\n"
     ]
    }
   ],
   "source": [
    "n1=int(input(\"Enter the Number\"))\n",
    "n2=int(input(\"Enter the second Number\"))\n",
    "print(\"sum\",n1+n2)"
   ]
  },
  {
   "cell_type": "markdown",
   "id": "7a4730ee",
   "metadata": {},
   "source": [
    "# leap Year"
   ]
  },
  {
   "cell_type": "code",
   "execution_count": 1,
   "id": "1677edbf",
   "metadata": {},
   "outputs": [],
   "source": [
    "def is_leap(year):\n",
    "    \n",
    "    # Write your logic here\n",
    "    if year%400==0 and  year%4==0 and year%100==0 :\n",
    "        \n",
    "        return 'True'\n",
    "    "
   ]
  },
  {
   "cell_type": "code",
   "execution_count": 4,
   "id": "d831f718",
   "metadata": {},
   "outputs": [],
   "source": [
    "is_leap(2016)"
   ]
  },
  {
   "cell_type": "code",
   "execution_count": null,
   "id": "23dedff4",
   "metadata": {},
   "outputs": [],
   "source": []
  }
 ],
 "metadata": {
  "kernelspec": {
   "display_name": "Python 3",
   "language": "python",
   "name": "python3"
  },
  "language_info": {
   "codemirror_mode": {
    "name": "ipython",
    "version": 3
   },
   "file_extension": ".py",
   "mimetype": "text/x-python",
   "name": "python",
   "nbconvert_exporter": "python",
   "pygments_lexer": "ipython3",
   "version": "3.8.8"
  }
 },
 "nbformat": 4,
 "nbformat_minor": 5
}
