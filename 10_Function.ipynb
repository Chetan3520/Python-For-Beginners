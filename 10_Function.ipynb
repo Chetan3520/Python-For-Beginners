{
 "cells": [
  {
   "cell_type": "raw",
   "id": "4c3c819c",
   "metadata": {},
   "source": [
    "FUNCTION: Function is subprogram which are used to compute a value of perform task.\n",
    "1] Built in Function\n",
    "2]User define Function\n"
   ]
  },
  {
   "cell_type": "code",
   "execution_count": 2,
   "id": "04a5d49c",
   "metadata": {},
   "outputs": [
    {
     "name": "stdout",
     "output_type": "stream",
     "text": [
      "22\n",
      "91.0\n",
      "5\n"
     ]
    }
   ],
   "source": [
    "def add(a,b): #addtion of two Numbrs\n",
    "    c=a+b\n",
    "    return(c) #OR return(a+b)\n",
    "f=add(12,10)\n",
    "print(f)\n",
    "print(add(45.5,45.5))\n",
    "print(add(2,3))    \n",
    "    \n",
    "    "
   ]
  },
  {
   "cell_type": "code",
   "execution_count": 11,
   "id": "e179a171",
   "metadata": {},
   "outputs": [
    {
     "name": "stdout",
     "output_type": "stream",
     "text": [
      "40\n"
     ]
    }
   ],
   "source": [
    "def add(y): #Function for addition in 10\n",
    "    x=10\n",
    "    return(x+y)\n",
    "print(add(30))"
   ]
  },
  {
   "cell_type": "code",
   "execution_count": 14,
   "id": "37e74a64",
   "metadata": {},
   "outputs": [],
   "source": [
    "#NESTED FUNCTION\n",
    "#When we define Function inside the another fuction , it is known as Nested Fuunction\n",
    "\n"
   ]
  },
  {
   "cell_type": "code",
   "execution_count": 16,
   "id": "f3241df4",
   "metadata": {},
   "outputs": [
    {
     "name": "stdout",
     "output_type": "stream",
     "text": [
      "the Substraction of two numbers is:\n",
      "40\n"
     ]
    }
   ],
   "source": [
    "def substract(a,b):\n",
    "    def operation():\n",
    "        print(\"the Substraction of two numbers is:\")\n",
    "    operation()\n",
    "    return(a-b)\n",
    "print(substract(50,10))\n",
    "    \n",
    "        "
   ]
  },
  {
   "cell_type": "code",
   "execution_count": 12,
   "id": "dd4d653a",
   "metadata": {},
   "outputs": [
    {
     "name": "stdout",
     "output_type": "stream",
     "text": [
      "Show function Disp Function\n"
     ]
    }
   ],
   "source": [
    "def disp():\n",
    "    def show():\n",
    "        return(\"Show function\")\n",
    "    result=show()+ \" Disp Function\"\n",
    "    return result\n",
    "a=disp()\n",
    "print(a)"
   ]
  },
  {
   "cell_type": "code",
   "execution_count": 6,
   "id": "ad88cd1e",
   "metadata": {},
   "outputs": [
    {
     "name": "stdout",
     "output_type": "stream",
     "text": [
      "Total exp of Chetan 255\n",
      "Total exp of Sagar 820\n"
     ]
    }
   ],
   "source": [
    "def calculate_total(exp):\n",
    "    total=0\n",
    "    for i in exp:\n",
    "        total=total + i\n",
    "    return(total)\n",
    "Chetan_exp_list=[45,50,100,20,10,30]\n",
    "Sagar_exp_list=[200,600,10,5,5]\n",
    "print(\"Total exp of Chetan\",calculate_total(Chetan_exp_list))\n",
    "print(\"Total exp of Sagar\",calculate_total(Sagar_exp_list))\n",
    "        \n",
    "\n",
    "\n",
    "    \n",
    "    \n",
    "    "
   ]
  },
  {
   "cell_type": "code",
   "execution_count": 14,
   "id": "028942dd",
   "metadata": {},
   "outputs": [
    {
     "name": "stdout",
     "output_type": "stream",
     "text": [
      "Prime \n",
      "Non Prime\n"
     ]
    }
   ],
   "source": [
    "#prime Number Using function\n",
    "def isprime(n):\n",
    "    c=2\n",
    "    while(n%c!=0):\n",
    "        c=c+1\n",
    "    if(n==c):\n",
    "        print(\"Prime \")\n",
    "    else:                                                                                                                                                                                                                                                                                                                \n",
    "        print(\"Non Prime\")\n",
    "isprime(7)\n",
    "isprime(4)\n",
    "    \n",
    "    \n"
   ]
  },
  {
   "cell_type": "code",
   "execution_count": 11,
   "id": "d593ac0d",
   "metadata": {},
   "outputs": [
    {
     "name": "stdout",
     "output_type": "stream",
     "text": [
      "2\n",
      "3\n",
      "5\n",
      "7\n"
     ]
    }
   ],
   "source": [
    "#Prime Number in the given range Using Function\n",
    "def range_prime(n1,n2):\n",
    "    for i in range(n1,n2): #n1>2\n",
    "        tem=i\n",
    "        c=2\n",
    "        while(i%c!=0):\n",
    "            c=c+1\n",
    "        if(c==tem) :\n",
    "            print(i)\n",
    "range_prime(2,10)       "
   ]
  },
  {
   "cell_type": "code",
   "execution_count": 30,
   "id": "db12e424",
   "metadata": {},
   "outputs": [
    {
     "name": "stdout",
     "output_type": "stream",
     "text": [
      "111\n",
      "Palindrome\n",
      "313\n",
      "Palindrome\n",
      "45\n",
      "Non Palindrome\n"
     ]
    }
   ],
   "source": [
    "#palindrome Number Using Function\n",
    "def ispalindrome(n):\n",
    "    tem=n\n",
    "    sum=0\n",
    "    print(tem)\n",
    "    while(n>0):\n",
    "        r=n%10\n",
    "        sum=sum*10+r\n",
    "        n=n//10\n",
    "    if(sum==tem):\n",
    "        print(\"Palindrome\")\n",
    "    else:\n",
    "        print(\"Non Palindrome\")\n",
    "ispalindrome(111)\n",
    "ispalindrome(313)\n",
    "ispalindrome(45)\n",
    "\n",
    "        \n",
    "        \n"
   ]
  },
  {
   "cell_type": "code",
   "execution_count": 1,
   "id": "44d52294",
   "metadata": {},
   "outputs": [
    {
     "name": "stdout",
     "output_type": "stream",
     "text": [
      "Chetan\n"
     ]
    }
   ],
   "source": [
    "print(\"Chetan\")"
   ]
  },
  {
   "cell_type": "code",
   "execution_count": 4,
   "id": "74d79ae4",
   "metadata": {},
   "outputs": [
    {
     "name": "stdout",
     "output_type": "stream",
     "text": [
      "Strong Number\n",
      "Strong Number\n",
      "Strong Number\n",
      "NOt Strong Number\n"
     ]
    }
   ],
   "source": [
    "#Strong Number Using Function\n",
    "def is_strong(n):\n",
    "    sum=0\n",
    "    tem=n\n",
    "    while(n>0):\n",
    "        r=n%10\n",
    "        import math\n",
    "        fact=math.factorial(r)\n",
    "        sum=sum+fact\n",
    "        n=n//10\n",
    "    if(sum==tem):\n",
    "        print(\"Strong Number\")\n",
    "    else:\n",
    "        print(\"NOt Strong Number\")\n",
    "is_strong(145)\n",
    "is_strong(2)\n",
    "is_strong(1)\n",
    "is_strong(123)\n",
    "    "
   ]
  },
  {
   "cell_type": "code",
   "execution_count": 5,
   "id": "40f7c771",
   "metadata": {},
   "outputs": [
    {
     "name": "stdout",
     "output_type": "stream",
     "text": [
      "Strong Number\n",
      "Strong Number\n",
      "Strong Number\n",
      "NOt Strong Number\n"
     ]
    }
   ],
   "source": [
    "#Strong Number Using Function\n",
    "def is_strong(n):\n",
    "    sum=0\n",
    "    tem=n\n",
    "    while(n>0):\n",
    "        r=n%10\n",
    "        fact=1\n",
    "        for i in range(1,r+1):  \n",
    "            fact=fact*i\n",
    "        sum=sum+fact\n",
    "        n=n//10\n",
    "    if(sum==tem):\n",
    "         print(\"Strong Number\")\n",
    "    else:\n",
    "        print(\"NOt Strong Number\")\n",
    "is_strong(145)\n",
    "is_strong(2)\n",
    "is_strong(1)\n",
    "is_strong(123)"
   ]
  },
  {
   "cell_type": "code",
   "execution_count": 11,
   "id": "1b242d62",
   "metadata": {},
   "outputs": [
    {
     "name": "stdout",
     "output_type": "stream",
     "text": [
      "3\n",
      "3\n",
      "5\n",
      "8\n",
      "13\n",
      "21\n",
      "34\n",
      "55\n",
      "89\n",
      "144\n",
      "233\n",
      "377\n",
      "610\n",
      "987\n"
     ]
    }
   ],
   "source": [
    "##Fibomnancy Using Function\n",
    "def Fibonancy(x,y):\n",
    "    c=x+y\n",
    "    while(c<1000):\n",
    "\n",
    "        print(c)\n",
    "        c=x+y\n",
    "        x=y\n",
    "        y=c\n",
    "Fibonancy(1,2)\n"
   ]
  },
  {
   "cell_type": "code",
   "execution_count": 8,
   "id": "0d31d3df",
   "metadata": {},
   "outputs": [
    {
     "name": "stdout",
     "output_type": "stream",
     "text": [
      "Armstrong Number\n",
      "Armstrong Number\n"
     ]
    }
   ],
   "source": [
    "#Armstrong Number Using Function\n",
    "#sum of 'n' power of the 'n' digit number is equal to that number \n",
    "def Is_Armstrong(n):\n",
    "    sum=0\n",
    "    tem=n\n",
    "    def count(p):\n",
    "        c=0\n",
    "        while(p>0):\n",
    "            c=c+1\n",
    "            p=p//10\n",
    "        return(c)\n",
    "    while(n>0):\n",
    "        r=n%10\n",
    "        cub=r**count(tem)\n",
    "        sum=sum+cub\n",
    "        n=n//10\n",
    "    if(sum==tem):\n",
    "        print(\"Armstrong Number\")\n",
    "    else:\n",
    "        return(\"Not Armstrong Number\")\n",
    "Is_Armstrong(153)\n",
    "Is_Armstrong(1634)\n",
    "    \n",
    "        \n",
    "    "
   ]
  },
  {
   "cell_type": "code",
   "execution_count": 13,
   "id": "7739a6c6",
   "metadata": {},
   "outputs": [
    {
     "name": "stdout",
     "output_type": "stream",
     "text": [
      "Armstrong Number\n",
      "Armstrong Number\n",
      "Armstrong Number\n",
      "Armstrong Number\n",
      "Armstrong Number\n"
     ]
    }
   ],
   "source": [
    "def Is_Armstrong(n):\n",
    "    sum=0\n",
    "    tem=n\n",
    "    p=n\n",
    "    count=0\n",
    "    while(p>0):\n",
    "        count=count+1\n",
    "        p=p//10   \n",
    "    while(n>0):\n",
    "        r=n%10\n",
    "        power=r**count\n",
    "        sum=sum+power\n",
    "        n=n//10\n",
    "    if(sum==tem):\n",
    "        print(\"Armstrong Number\")\n",
    "    else:\n",
    "        return(\"Not Armstrong Number\")\n",
    "Is_Armstrong(153)\n",
    "Is_Armstrong(1634)\n",
    "Is_Armstrong(407)\n",
    "Is_Armstrong(9474)\n",
    "Is_Armstrong(8208)\n",
    "\n",
    "    "
   ]
  },
  {
   "cell_type": "code",
   "execution_count": 14,
   "id": "ccb6afd9",
   "metadata": {},
   "outputs": [
    {
     "name": "stdout",
     "output_type": "stream",
     "text": [
      "1\n",
      "2\n",
      "3\n",
      "4\n",
      "5\n",
      "6\n",
      "7\n",
      "8\n",
      "9\n",
      "153\n",
      "370\n",
      "371\n",
      "407\n",
      "1634\n",
      "8208\n",
      "9474\n",
      "54748\n",
      "92727\n",
      "93084\n"
     ]
    }
   ],
   "source": [
    "def Range_Armstrong(n):\n",
    "    for i in range(1,n+1):\n",
    "        sum=0\n",
    "        count=0\n",
    "        tem=i\n",
    "        tem1=i\n",
    "        while(tem>0):\n",
    "            count=count+1\n",
    "            tem=tem//10\n",
    "        while(i>0):\n",
    "            r=i%10\n",
    "            power=r**count\n",
    "            sum=sum+power\n",
    "            i=i//10\n",
    "        if(sum==tem1):\n",
    "            print(sum)\n",
    "Range_Armstrong(100000)            \n",
    "            \n",
    "            \n",
    "    "
   ]
  },
  {
   "cell_type": "code",
   "execution_count": 41,
   "id": "f360c730",
   "metadata": {},
   "outputs": [
    {
     "name": "stdout",
     "output_type": "stream",
     "text": [
      "6\n",
      "28\n",
      "496\n",
      "8128\n"
     ]
    }
   ],
   "source": [
    "#Recognize Perfect Number Using Function\n",
    "def Range_perfect(n):\n",
    "    for i in range(1,n+1):\n",
    "        sum=0\n",
    "        for j in range(1,i):  \n",
    "            if(i%j==0):\n",
    "                sum=sum+j\n",
    "        if(sum==i):\n",
    "             print(sum)\n",
    "Range_perfect(10000)\n",
    "\n",
    "            "
   ]
  },
  {
   "cell_type": "code",
   "execution_count": 38,
   "id": "bfedaf40",
   "metadata": {},
   "outputs": [
    {
     "name": "stdout",
     "output_type": "stream",
     "text": [
      "Perfect Number\n",
      "Non Perfect Number\n"
     ]
    }
   ],
   "source": [
    "def Is_Perfect(n):\n",
    "    sum=0\n",
    "    for i in range(1,n):\n",
    "        if(n%i==0):\n",
    "            sum=sum+i          \n",
    "    if(sum==n):\n",
    "        print(\"Perfect Number\")\n",
    "    else:\n",
    "        print(\"Non Perfect Number\")\n",
    "Is_Perfect(6)\n",
    "Is_Perfect(9)"
   ]
  },
  {
   "cell_type": "code",
   "execution_count": 3,
   "id": "573049f3",
   "metadata": {},
   "outputs": [],
   "source": [
    "#FUNCTION OF MEAN AND VARIENCE OF USER GIVEN NUMBERS IN THE ARRAY\n",
    "def mean\n",
    "import array\n",
    "p=array.array('i',[])\n",
    "n=int(input(\"How many elements?\"))\n",
    "for i in range(n):\n",
    "    p.append(int(input(\"Enter the element\")))\n",
    "print(p)\n",
    "sum=0\n",
    "sq=0\n",
    "for i in range(len(p)):\n",
    "    sum=sum+p[i]\n",
    "    sq=sq+pow(p[i],2)\n",
    "mean=sum/n\n",
    "print(\"mean=\",mean)\n",
    "varience=sq-(n*pow(mean,2))\n",
    "print(\"varience=\",varience)"
   ]
  },
  {
   "cell_type": "code",
   "execution_count": null,
   "id": "c01833c8",
   "metadata": {},
   "outputs": [],
   "source": []
  },
  {
   "cell_type": "code",
   "execution_count": null,
   "id": "baba2cfa",
   "metadata": {},
   "outputs": [],
   "source": []
  }
 ],
 "metadata": {
  "kernelspec": {
   "display_name": "Python 3",
   "language": "python",
   "name": "python3"
  },
  "language_info": {
   "codemirror_mode": {
    "name": "ipython",
    "version": 3
   },
   "file_extension": ".py",
   "mimetype": "text/x-python",
   "name": "python",
   "nbconvert_exporter": "python",
   "pygments_lexer": "ipython3",
   "version": "3.8.8"
  }
 },
 "nbformat": 4,
 "nbformat_minor": 5
}
