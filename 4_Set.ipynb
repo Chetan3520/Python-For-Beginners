{
 "cells": [
  {
   "cell_type": "raw",
   "id": "bbb11271",
   "metadata": {},
   "source": [
    "#set is unordered collection of the elements must like set in mathematics\n",
    "#Mutable so we can modifies\n",
    "#does not accesing elemets through set\n",
    "#it can store different data type elements"
   ]
  },
  {
   "cell_type": "code",
   "execution_count": 2,
   "id": "87046214",
   "metadata": {},
   "outputs": [
    {
     "name": "stdout",
     "output_type": "stream",
     "text": [
      "{'chetan salunke'}\n"
     ]
    }
   ],
   "source": [
    "a=set()#empty set always written in this form\n",
    "a.add(\"chetan salunke\") #adding single element \n",
    "print(a)"
   ]
  },
  {
   "cell_type": "code",
   "execution_count": 3,
   "id": "fd3ed828",
   "metadata": {},
   "outputs": [
    {
     "name": "stdout",
     "output_type": "stream",
     "text": [
      "{2, 4, 'Chetan', 10, 20, 30}\n",
      "{2, 4, 'Chetan', 20, 10, 30}\n"
     ]
    }
   ],
   "source": [
    "#update() for adding multiple elements\n",
    "a={2,4}\n",
    "b=set()\n",
    "a.update([10,20,30,\"Chetan\"])\n",
    "b.update(a)\n",
    "print(a)\n",
    "print(b)"
   ]
  },
  {
   "cell_type": "code",
   "execution_count": null,
   "id": "99aa04b5",
   "metadata": {},
   "outputs": [],
   "source": [
    "#Deleting element\n",
    "#remove()\n",
    "a={10,20,40,\"Chetan\",\"Yogesh\",\"Sagar\"}\n",
    "a.remove(\"Sagar\")\n",
    "a.discard(40)\n",
    "for i in a:\n",
    "    print(i)\n",
    "    \n",
    "len(a)"
   ]
  },
  {
   "cell_type": "code",
   "execution_count": null,
   "id": "5e2d0145",
   "metadata": {},
   "outputs": [],
   "source": [
    "### Getting Set input from User\n",
    "a=set()\n",
    "n=int(input(\"Enter how many elements you want to store in set:\"))\n",
    "for i in range(n):\n",
    "    n1=input(\"Enter that elements:\")\n",
    "    a.add(n1)\n",
    "print(a) #Set is  unordered so it can store it random\n",
    "\n"
   ]
  },
  {
   "cell_type": "code",
   "execution_count": 12,
   "id": "428cf2eb",
   "metadata": {},
   "outputs": [
    {
     "name": "stdout",
     "output_type": "stream",
     "text": [
      "set()\n"
     ]
    }
   ],
   "source": [
    "#Clearing All elements\n",
    "a={\"Patil\",\"Yogesh\"}\n",
    "a.clear()\n",
    "print(a)"
   ]
  },
  {
   "cell_type": "code",
   "execution_count": 17,
   "id": "ad8d2f1e",
   "metadata": {},
   "outputs": [
    {
     "name": "stdout",
     "output_type": "stream",
     "text": [
      "{2, 4, 5, 6, 7}\n",
      "{1, 2, 3, 4, 5, 6, 7, 8, 9}\n",
      "{1, 3}\n",
      "{8, 9}\n",
      "False False True True\n"
     ]
    }
   ],
   "source": [
    "#Some Importannt Set method\n",
    "a={1,2,3,4,5,6,7}\n",
    "b={2,4,5,6,7,8,9}\n",
    "c={1,2,3,4,5,6,7,8,9,10}\n",
    "A=a.intersection(b)\n",
    "print(A)\n",
    "B=a.union(b)\n",
    "print(B)\n",
    "C=a.difference(b) #Elements in a that not in b/(a intersection b' )\n",
    "print(C)\n",
    "D=b.difference(a) #Elements in b that not in a\n",
    "print(D)\n",
    "E=a.issubset(b)\n",
    "F=b.issubset(a)\n",
    "G=a.issubset(c)\n",
    "R=b.issubset(c)\n",
    "print(E,F,G,R)"
   ]
  },
  {
   "cell_type": "markdown",
   "id": "8d0aa720",
   "metadata": {},
   "source": [
    "### If the inputs are given on one line separated by a character (the delimiter), use split() to get the separate values in the form of a list. The delimiter is space (ascii 32) by default. To specify that comma is the delimiter, use string.split(','). For this challenge, and in general on HackerRank, space will be the delimiter."
   ]
  },
  {
   "cell_type": "code",
   "execution_count": 12,
   "id": "0aa8172c",
   "metadata": {},
   "outputs": [
    {
     "name": "stdout",
     "output_type": "stream",
     "text": [
      " 1 2 3 4\n",
      "['1', '2', '3', '4']\n"
     ]
    }
   ],
   "source": [
    "import ipykernel.kernelbase\n",
    "a=input()\n",
    "lis=a.split()\n",
    "print(lis)\n",
    "\n"
   ]
  },
  {
   "cell_type": "markdown",
   "id": "f97661f6",
   "metadata": {},
   "source": [
    "### If the list values are all integer types, use the map() method to convert all the strings to integers"
   ]
  },
  {
   "cell_type": "code",
   "execution_count": 14,
   "id": "31ad04cc",
   "metadata": {},
   "outputs": [
    {
     "data": {
      "text/plain": [
       "[1, 2, 3, 4]"
      ]
     },
     "execution_count": 14,
     "metadata": {},
     "output_type": "execute_result"
    }
   ],
   "source": [
    "newlis=list(map(int,lis))\n",
    "newlis"
   ]
  },
  {
   "cell_type": "markdown",
   "id": "c24091c1",
   "metadata": {},
   "source": [
    "### Sets are an unordered collection of unique values. A single set contains values of any immutable data type."
   ]
  },
  {
   "cell_type": "code",
   "execution_count": 15,
   "id": "21d57925",
   "metadata": {},
   "outputs": [
    {
     "data": {
      "text/plain": [
       "{'a', 'b'}"
      ]
     },
     "execution_count": 15,
     "metadata": {},
     "output_type": "execute_result"
    }
   ],
   "source": [
    "myset = {1, 2} # Directly assigning values to a set\n",
    "myset = set()  # Initializing a set\n",
    "myset = set(['a', 'b']) # Creating a set from a list\n",
    "myset\n",
    "{'a', 'b'}"
   ]
  },
  {
   "cell_type": "markdown",
   "id": "040e503e",
   "metadata": {},
   "source": [
    "#### REMOVING ITEMS\n",
    "\n",
    "Both the discard() and remove() functions take a single value as an argument and removes that value from the set. If that value is not present, discard() does nothing, but remove() will raise a KeyError exception."
   ]
  },
  {
   "cell_type": "code",
   "execution_count": 16,
   "id": "b5f2821c",
   "metadata": {},
   "outputs": [
    {
     "data": {
      "text/plain": [
       "{1, 11, 12, 13, 2, 3, 4, 5, 7, 8, 'a', 'b', 'c'}"
      ]
     },
     "execution_count": 16,
     "metadata": {},
     "output_type": "execute_result"
    }
   ],
   "source": [
    "s={'a', 1, 'c', 'b', 4, 5, 7, 8, 2, 12, (5, 4), 13, 11, 3}\n",
    "s.discard((5,4))\n",
    "s"
   ]
  },
  {
   "cell_type": "code",
   "execution_count": 17,
   "id": "9cdc4db8",
   "metadata": {},
   "outputs": [
    {
     "data": {
      "text/plain": [
       "{1, 11, 12, 13, 2, 3, 4, 5, 7, 8, 'b', 'c'}"
      ]
     },
     "execution_count": 17,
     "metadata": {},
     "output_type": "execute_result"
    }
   ],
   "source": [
    "s.remove('a');s"
   ]
  },
  {
   "cell_type": "code",
   "execution_count": null,
   "id": "56f47de4",
   "metadata": {},
   "outputs": [],
   "source": []
  }
 ],
 "metadata": {
  "kernelspec": {
   "display_name": "Python 3",
   "language": "python",
   "name": "python3"
  },
  "language_info": {
   "codemirror_mode": {
    "name": "ipython",
    "version": 3
   },
   "file_extension": ".py",
   "mimetype": "text/x-python",
   "name": "python",
   "nbconvert_exporter": "python",
   "pygments_lexer": "ipython3",
   "version": "3.8.8"
  }
 },
 "nbformat": 4,
 "nbformat_minor": 5
}
