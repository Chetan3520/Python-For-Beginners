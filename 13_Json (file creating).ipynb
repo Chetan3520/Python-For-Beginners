{
 "cells": [
  {
   "cell_type": "markdown",
   "id": "c3dd1696",
   "metadata": {},
   "source": [
    "**After creating Json file, this file or code we can use in other language like C and C++**"
   ]
  },
  {
   "cell_type": "markdown",
   "id": "bbfa14b1",
   "metadata": {},
   "source": [
    "**This is called data exchange format**"
   ]
  },
  {
   "cell_type": "code",
   "execution_count": 2,
   "id": "bd5df14c",
   "metadata": {},
   "outputs": [
    {
     "name": "stdout",
     "output_type": "stream",
     "text": [
      "{\"Chetan\": {\"name\": \"Chetan\", \"addressp\": \"1 green street\", \"phone\": 9960923237}, \"Toshit\": {\"name\": \"Toshit\", \"addressp\": \"1 red street\", \"phone\": 9370704966}}\n"
     ]
    }
   ],
   "source": [
    "book={}\n",
    "book[\"Chetan\"]={\n",
    "    \n",
    "    'name':'Chetan',\n",
    "    'addressp':'1 green street',\n",
    "    'phone':9960923237\n",
    "}\n",
    "book[\"Toshit\"]={\n",
    "    \n",
    "    'name':'Toshit',\n",
    "    'addressp':'1 red street',\n",
    "    'phone':9370704966\n",
    "}\n",
    "\n",
    "import json as j\n",
    "\n",
    "s=j.dumps(book)\n",
    "print(s)\n",
    "with open(\"c://data//book.txt\",\"w\") as f:\n",
    "    f.write(s)"
   ]
  },
  {
   "cell_type": "markdown",
   "id": "83aad0f0",
   "metadata": {},
   "source": [
    "**Reading the Json file**\n"
   ]
  },
  {
   "cell_type": "code",
   "execution_count": 4,
   "id": "7c972fdb",
   "metadata": {},
   "outputs": [
    {
     "name": "stdout",
     "output_type": "stream",
     "text": [
      "{\"Chetan\": {\"name\": \"Chetan\", \"addressp\": \"1 green street\", \"phone\": 9960923237}, \"Toshit\": {\"name\": \"Toshit\", \"addressp\": \"1 red street\", \"phone\": 9370704966}}\n",
      "{'Chetan': {'name': 'Chetan', 'addressp': '1 green street', 'phone': 9960923237}, 'Toshit': {'name': 'Toshit', 'addressp': '1 red street', 'phone': 9370704966}}\n",
      "<class 'dict'>\n",
      "{'name': 'Chetan', 'addressp': '1 green street', 'phone': 9960923237}\n",
      "9960923237\n",
      "{'name': 'Chetan', 'addressp': '1 green street', 'phone': 9960923237}\n",
      "{'name': 'Toshit', 'addressp': '1 red street', 'phone': 9370704966}\n"
     ]
    }
   ],
   "source": [
    "f=open(\"c://data//book.txt\",\"r\")\n",
    "s=f.read()\n",
    "print(s)\n",
    "import json as j\n",
    "book=j.loads(s) #convert into dictionary from string\n",
    "print(book)\n",
    "print(type(book))\n",
    "print(book['Chetan'])\n",
    "print(book['Chetan']['phone'])\n",
    "for i in book:\n",
    "    print(book[i])"
   ]
  },
  {
   "cell_type": "code",
   "execution_count": null,
   "id": "c262f1bc",
   "metadata": {},
   "outputs": [],
   "source": []
  }
 ],
 "metadata": {
  "kernelspec": {
   "display_name": "Python 3",
   "language": "python",
   "name": "python3"
  },
  "language_info": {
   "codemirror_mode": {
    "name": "ipython",
    "version": 3
   },
   "file_extension": ".py",
   "mimetype": "text/x-python",
   "name": "python",
   "nbconvert_exporter": "python",
   "pygments_lexer": "ipython3",
   "version": "3.8.8"
  }
 },
 "nbformat": 4,
 "nbformat_minor": 5
}
