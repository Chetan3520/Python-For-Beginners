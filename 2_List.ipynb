{
 "cells": [
  {
   "cell_type": "markdown",
   "id": "76a48ed6",
   "metadata": {},
   "source": [
    "# List"
   ]
  },
  {
   "cell_type": "raw",
   "id": "d4f6bcb2",
   "metadata": {},
   "source": [
    "#LIST\n",
    "#Mutable\n",
    "#NOTE: Array include only one type of element but List can contain different types of element(Hetrogenious data Structure)"
   ]
  },
  {
   "cell_type": "code",
   "execution_count": 37,
   "id": "ee7ef774",
   "metadata": {},
   "outputs": [
    {
     "name": "stdout",
     "output_type": "stream",
     "text": [
      "[2, 7, 8, 4, 9, 3, 'Chetan', 'Yogesh', 'Sagar', 2.3, 4.5]\n",
      "<class 'list'>\n",
      "<class 'list'>\n"
     ]
    }
   ],
   "source": [
    "\n",
    "a=[2,7,8,4,9,3,\"Chetan\",\"Yogesh\",\"Sagar\",2.3,4.5]\n",
    "c=([2,7,8,4,9,3,\"Chetan\",\"Yogesh\",\"Sagar\",2.3,4.5]) # we can also declare List by this syntax(ie. touple of list)\n",
    "print(a)\n",
    "print(type(a))\n",
    "print(type(c))\n",
    "    \n"
   ]
  },
  {
   "cell_type": "markdown",
   "id": "93f3b35d",
   "metadata": {},
   "source": [
    "# METHODS OF LIST\n"
   ]
  },
  {
   "cell_type": "code",
   "execution_count": 34,
   "id": "d3aedd7d",
   "metadata": {},
   "outputs": [
    {
     "name": "stdout",
     "output_type": "stream",
     "text": [
      "[2, 7, 8, 4, 9, 3, 'Chetan', 'Yogesh', 'Sagar', 2.3]\n",
      "[2, 7, 8, 4, 9, 3, 'Yogesh', 'Sagar', 2.3]\n",
      "[2, 7, 8, 4, 9, 3, 'Yogesh', 'Sagar', 2.3]\n",
      "[2.3, 'Sagar', 'Yogesh', 3, 9, 4, 8, 7, 2]\n",
      "[2.3, 'Sagar', 'Yogesh', 3, 9, 4, 8, 7, 2, 2, 4, 8.8, 3.5, 'Chandrahas', 'Jagadish', 'Mohit', 'Digvijay', 'Chetan']\n",
      "[1, 2, 3, 4, 8, 12, 13, 18, 22, 23, 43, 45, 53, 67, 73, 165]\n",
      "[]\n",
      "1 2\n",
      "2 3\n",
      "3 3\n",
      "4 5\n",
      "5 6\n",
      "6 3\n",
      "7 4\n",
      "8 4\n",
      "9 4\n"
     ]
    }
   ],
   "source": [
    "a=([2,7,8,4,9,3,\"Chetan\",\"Yogesh\",\"Sagar\",2.3,4.5])\n",
    "a.pop() #Remove Last Elemnt by-default\n",
    "print(a)\n",
    "\n",
    "a.remove(\"Chetan\") #Remove Passed Argument\n",
    "print(a)\n",
    "\n",
    "a.index(\"Sagar\") #Give index Number to passed Argument\n",
    "print(a)\n",
    "\n",
    "a.reverse()  #Reverse the order of list\n",
    "print(a)\n",
    "\n",
    "b=([2,4,8.8,3.5,\"Chandrahas\",\"Jagadish\",\"Mohit\",\"Digvijay\",\"Chetan\"])\n",
    "a.extend(b) #Element of a add in element of b\n",
    "print(a)\n",
    "\n",
    "c=([1,3,73,67,4,8,23,45,2,53,22,12,43,13,18,165])\n",
    "c.sort()   #Element of List of same type of elements convert into Ascending Order\n",
    "print(c)\n",
    "\n",
    "\n",
    "c.clear()   #delete all element in list\n",
    "print(c)\n",
    "\n",
    "#count() Gives Frequency of the numbers in the list\n",
    "d=[1,2,4,2,4,5,3,1,2,3,4,5,7,8,9,5,9,6,7,5,4,3,5,6,7,8,6,4,5,7,8,9,9,8]\n",
    "for i in range(1,10):\n",
    "    print(i,d.count(i))\n",
    " "
   ]
  },
  {
   "cell_type": "markdown",
   "id": "d35cca76",
   "metadata": {},
   "source": [
    "## find frequency of elements in the list with corresponding elements\n"
   ]
  },
  {
   "cell_type": "code",
   "execution_count": 33,
   "id": "89275158",
   "metadata": {},
   "outputs": [
    {
     "name": "stdout",
     "output_type": "stream",
     "text": [
      "10 4\n",
      "11 2\n",
      "12 1\n",
      "34 3\n",
      "65 1\n",
      "67 2\n",
      "68 2\n",
      "75 1\n",
      "89 3\n",
      "90 1\n",
      "100 2\n"
     ]
    }
   ],
   "source": [
    "#find frequency of elements in the list with corresponding elements\n",
    "c=[10,11,10,11,34,67,34,34,67,12,10,89,100,90,89,65,75,68,10,89,100,68]\n",
    "c.sort()\n",
    "d=max(c)\n",
    "for i in range(d+1):\n",
    "        if(c.count(i)!=0):\n",
    "            print(i,c.count(i))\n",
    "            \n",
    "\n"
   ]
  },
  {
   "cell_type": "code",
   "execution_count": 12,
   "id": "717fb2fc",
   "metadata": {},
   "outputs": [
    {
     "name": "stdout",
     "output_type": "stream",
     "text": [
      "10 4\n",
      "11 2\n",
      "12 1\n",
      "34 3\n",
      "65 1\n",
      "67 2\n",
      "68 2\n",
      "75 1\n",
      "89 3\n",
      "90 1\n",
      "100 2\n"
     ]
    }
   ],
   "source": [
    "c=[10,11,10,11,34,67,34,34,67,12,10,89,100,90,89,65,75,68,10,89,100,68]\n",
    "c.sort()\n",
    "l=len(c)\n",
    "b=1\n",
    "for i in c: \n",
    "    if(b!=i):\n",
    "        a=i\n",
    "        print(i,c.count(i))\n",
    "        b=a\n",
    "                                                                                                                                                                  "
   ]
  },
  {
   "cell_type": "markdown",
   "id": "3b646b81",
   "metadata": {},
   "source": [
    "#### OR"
   ]
  },
  {
   "cell_type": "code",
   "execution_count": 5,
   "id": "0b3f496b",
   "metadata": {},
   "outputs": [
    {
     "name": "stdout",
     "output_type": "stream",
     "text": [
      "10 4\n",
      "11 2\n",
      "12 1\n",
      "34 3\n",
      "65 1\n",
      "67 2\n",
      "68 2\n",
      "75 1\n",
      "89 3\n",
      "90 1\n",
      "100 2\n"
     ]
    }
   ],
   "source": [
    "#find frequency of elements in the list with corresponding elements\n",
    "c=[10,11,10,11,34,67,34,34,67,12,10,89,100,90,89,65,75,68,10,89,100,68]\n",
    "c.sort()\n",
    "l=len(c)\n",
    "a=[]\n",
    "for i in c: \n",
    "    if(i not in a):\n",
    "        print(i,c.count(i))\n",
    "        a.append(i)\n",
    "                   "
   ]
  },
  {
   "cell_type": "markdown",
   "id": "7ab499b1",
   "metadata": {},
   "source": [
    "#### OR"
   ]
  },
  {
   "cell_type": "code",
   "execution_count": 9,
   "id": "771f73ce",
   "metadata": {},
   "outputs": [
    {
     "data": {
      "text/html": [
       "<div>\n",
       "<style scoped>\n",
       "    .dataframe tbody tr th:only-of-type {\n",
       "        vertical-align: middle;\n",
       "    }\n",
       "\n",
       "    .dataframe tbody tr th {\n",
       "        vertical-align: top;\n",
       "    }\n",
       "\n",
       "    .dataframe thead th {\n",
       "        text-align: right;\n",
       "    }\n",
       "</style>\n",
       "<table border=\"1\" class=\"dataframe\">\n",
       "  <thead>\n",
       "    <tr style=\"text-align: right;\">\n",
       "      <th></th>\n",
       "      <th>0</th>\n",
       "      <th>1</th>\n",
       "    </tr>\n",
       "  </thead>\n",
       "  <tbody>\n",
       "    <tr>\n",
       "      <th>0</th>\n",
       "      <td>10</td>\n",
       "      <td>4</td>\n",
       "    </tr>\n",
       "    <tr>\n",
       "      <th>1</th>\n",
       "      <td>11</td>\n",
       "      <td>2</td>\n",
       "    </tr>\n",
       "    <tr>\n",
       "      <th>2</th>\n",
       "      <td>12</td>\n",
       "      <td>1</td>\n",
       "    </tr>\n",
       "    <tr>\n",
       "      <th>3</th>\n",
       "      <td>34</td>\n",
       "      <td>3</td>\n",
       "    </tr>\n",
       "    <tr>\n",
       "      <th>4</th>\n",
       "      <td>65</td>\n",
       "      <td>1</td>\n",
       "    </tr>\n",
       "    <tr>\n",
       "      <th>5</th>\n",
       "      <td>67</td>\n",
       "      <td>2</td>\n",
       "    </tr>\n",
       "    <tr>\n",
       "      <th>6</th>\n",
       "      <td>68</td>\n",
       "      <td>2</td>\n",
       "    </tr>\n",
       "    <tr>\n",
       "      <th>7</th>\n",
       "      <td>75</td>\n",
       "      <td>1</td>\n",
       "    </tr>\n",
       "    <tr>\n",
       "      <th>8</th>\n",
       "      <td>89</td>\n",
       "      <td>3</td>\n",
       "    </tr>\n",
       "    <tr>\n",
       "      <th>9</th>\n",
       "      <td>90</td>\n",
       "      <td>1</td>\n",
       "    </tr>\n",
       "    <tr>\n",
       "      <th>10</th>\n",
       "      <td>100</td>\n",
       "      <td>2</td>\n",
       "    </tr>\n",
       "  </tbody>\n",
       "</table>\n",
       "</div>"
      ],
      "text/plain": [
       "      0  1\n",
       "0    10  4\n",
       "1    11  2\n",
       "2    12  1\n",
       "3    34  3\n",
       "4    65  1\n",
       "5    67  2\n",
       "6    68  2\n",
       "7    75  1\n",
       "8    89  3\n",
       "9    90  1\n",
       "10  100  2"
      ]
     },
     "execution_count": 9,
     "metadata": {},
     "output_type": "execute_result"
    }
   ],
   "source": [
    "import pandas as pd\n",
    "d=[10,11,10,11,34,67,34,34,67,12,10,89,100,90,89,65,75,68,10,89,100,68]\n",
    "d.sort()\n",
    "l=[]\n",
    "for i in set(d):\n",
    "    l.append([i,d.count(i)])\n",
    "l.sort()\n",
    "pd.DataFrame(l)\n"
   ]
  },
  {
   "cell_type": "markdown",
   "id": "3ecffdfe",
   "metadata": {},
   "source": [
    "#### OR"
   ]
  },
  {
   "cell_type": "code",
   "execution_count": 11,
   "id": "aba6925a",
   "metadata": {},
   "outputs": [
    {
     "name": "stdout",
     "output_type": "stream",
     "text": [
      "10 4\n",
      "11 2\n",
      "12 1\n",
      "34 3\n",
      "65 1\n",
      "67 2\n",
      "68 2\n",
      "75 1\n",
      "89 3\n",
      "90 1\n",
      "100 2\n"
     ]
    }
   ],
   "source": [
    "a=[10,11,10,11,34,67,34,34,67,12,10,89,100,90,89,65,75,68,10,89,100,68]\n",
    "d=set(a)\n",
    "d=list(d)\n",
    "d.sort()\n",
    "for i in  d:\n",
    "    print(i,a.count(i))"
   ]
  },
  {
   "cell_type": "markdown",
   "id": "7e3f7e4a",
   "metadata": {},
   "source": [
    "#### OR"
   ]
  },
  {
   "cell_type": "code",
   "execution_count": null,
   "id": "27a4d82f",
   "metadata": {},
   "outputs": [],
   "source": []
  },
  {
   "cell_type": "code",
   "execution_count": null,
   "id": "8f9edcc6",
   "metadata": {},
   "outputs": [],
   "source": []
  },
  {
   "cell_type": "markdown",
   "id": "7ed56c1b",
   "metadata": {},
   "source": [
    "# Slicing of List\n"
   ]
  },
  {
   "cell_type": "code",
   "execution_count": 20,
   "id": "91a9c73c",
   "metadata": {},
   "outputs": [
    {
     "name": "stdout",
     "output_type": "stream",
     "text": [
      "[100, 100, 90, 89, 89, 89, 75, 68, 68, 67, 67, 65, 34, 34, 34, 12, 11, 11, 10, 10, 10]\n",
      "\n",
      "100\n",
      "90\n",
      "89\n",
      "75\n",
      "68\n",
      "67\n",
      "65\n",
      "34\n",
      "12\n",
      "11\n",
      "10\n"
     ]
    }
   ],
   "source": [
    "c=[10,11,10,11,34,67,34,34,67,12,10,89,100,90,89,65,75,68,10,89,100,68]\n",
    "c.sort()\n",
    "new=c[-1:0:-1]\n",
    "print(new)\n",
    "print()\n",
    "a=[]\n",
    "for i in new:\n",
    "    if(i not in a):\n",
    "        print(i)\n",
    "        a.append(i)\n",
    "\n"
   ]
  },
  {
   "cell_type": "code",
   "execution_count": 31,
   "id": "a6ce3194",
   "metadata": {},
   "outputs": [
    {
     "name": "stdout",
     "output_type": "stream",
     "text": [
      "[10, 20, 30, 1, 2, 3]\n"
     ]
    }
   ],
   "source": [
    "#List Concstnation\n",
    "a=[10,20,30]\n",
    "b=[1,2,3]\n",
    "c=a+b\n",
    "print(c)"
   ]
  },
  {
   "cell_type": "code",
   "execution_count": 39,
   "id": "f73a051e",
   "metadata": {},
   "outputs": [
    {
     "name": "stdout",
     "output_type": "stream",
     "text": [
      "[1, 2, 3, 1, 2, 3, 1, 2, 3]\n"
     ]
    }
   ],
   "source": [
    "#Repetation of List\n",
    "a=[1,2,3]\n",
    "result=a*3 #in the list result a will repeat 3 times\n",
    "print(result)"
   ]
  },
  {
   "cell_type": "code",
   "execution_count": 47,
   "id": "3608764c",
   "metadata": {},
   "outputs": [
    {
     "name": "stdout",
     "output_type": "stream",
     "text": [
      "3132434585792\n",
      "3132434585792\n"
     ]
    },
    {
     "data": {
      "text/plain": [
       "True"
      ]
     },
     "execution_count": 47,
     "metadata": {},
     "output_type": "execute_result"
    }
   ],
   "source": [
    "#Aliasing (Change the name of list withought change in id)\n",
    "a=[12,34,5]\n",
    "b=a\n",
    "print(id(a))\n",
    "print(id(b))\n",
    "a is b "
   ]
  },
  {
   "cell_type": "code",
   "execution_count": 1,
   "id": "12f2ef05",
   "metadata": {},
   "outputs": [
    {
     "name": "stdout",
     "output_type": "stream",
     "text": [
      "[12, 3, 4, 5, 'Chetan']\n"
     ]
    }
   ],
   "source": [
    "#Copping List\n",
    "a=[12,3,4,5,\"Chetan\"]\n",
    "b=a.copy()\n",
    "print(b)"
   ]
  },
  {
   "cell_type": "code",
   "execution_count": 3,
   "id": "472dd67d",
   "metadata": {},
   "outputs": [
    {
     "name": "stdout",
     "output_type": "stream",
     "text": [
      "[34, 20, 32, 76]\n"
     ]
    }
   ],
   "source": [
    "#Cloning List (Same as Copy)\n",
    "a=[34,20,32,76]\n",
    "b=a[:]\n",
    "print(b)"
   ]
  },
  {
   "cell_type": "code",
   "execution_count": 9,
   "id": "aa565fbb",
   "metadata": {},
   "outputs": [
    {
     "name": "stdout",
     "output_type": "stream",
     "text": [
      "0 122\n",
      "1 123\n",
      "2 234\n",
      "3 345\n",
      "4 566\n",
      "5 0 12\n",
      "5 1 13\n",
      "5 2 14\n"
     ]
    }
   ],
   "source": [
    "#Nested List\n",
    "a=[122,123,234,345,566,[12,13,14]]\n",
    "n=len(a)\n",
    "for i in range(n):\n",
    "    if type(a[i]) is list:\n",
    "        m=len(a[i])\n",
    "        for j in range(m):\n",
    "            print(i,j,a[i][j])\n",
    "    else:\n",
    "        print(i,a[i])"
   ]
  },
  {
   "cell_type": "code",
   "execution_count": 1,
   "id": "0203b1cc",
   "metadata": {},
   "outputs": [
    {
     "name": "stdout",
     "output_type": "stream",
     "text": [
      "12\n",
      "32\n",
      "34\n",
      "45\n",
      "123\n",
      "1\n",
      "2\n",
      "3\n",
      "45\n",
      "6\n"
     ]
    }
   ],
   "source": [
    "a=[[12,32,34,45,123],[1,2,3,45,6]]\n",
    "for i in a:\n",
    "    for j in i:\n",
    "        print(j)\n",
    "        \n",
    "        \n"
   ]
  },
  {
   "cell_type": "code",
   "execution_count": 14,
   "id": "a9a6d7fe",
   "metadata": {},
   "outputs": [
    {
     "name": "stdout",
     "output_type": "stream",
     "text": [
      "0 122\n",
      "1 123\n",
      "2 234\n",
      "3 345\n",
      "4 566\n",
      "5 0 12\n",
      "5 1 13\n",
      "5 2 14\n"
     ]
    }
   ],
   "source": [
    "a=[122,123,234,345,566,[12,13,14]]\n",
    "l=len(a)\n",
    "for i in range(l):\n",
    "    if type(a[i]) is list:\n",
    "        l1=len(a[i])\n",
    "        for j in range(l1):\n",
    "            print(i,j,a[i][j])\n",
    "    else:\n",
    "        print(i,a[i])\n",
    "        \n",
    "    \n",
    "\n",
    "    \n",
    "    \n",
    "    "
   ]
  },
  {
   "cell_type": "markdown",
   "id": "daae6e6d",
   "metadata": {},
   "source": []
  },
  {
   "cell_type": "code",
   "execution_count": null,
   "id": "6e53aff2",
   "metadata": {},
   "outputs": [],
   "source": []
  },
  {
   "cell_type": "code",
   "execution_count": null,
   "id": "b4113888",
   "metadata": {},
   "outputs": [],
   "source": []
  },
  {
   "cell_type": "code",
   "execution_count": 18,
   "id": "40754f76",
   "metadata": {},
   "outputs": [
    {
     "name": "stdout",
     "output_type": "stream",
     "text": [
      "Origianl list\n",
      "[[10, 20, 30], [40, 50, 60], [70, 80, 90], [11, 12, 13], [14, 15, 16]]\n",
      "first 4 positions\n",
      "[[10, 20, 30], [40, 50, 60], [70, 80, 90], [11, 12, 13]]\n",
      "From 0-last position\n",
      "[[10, 20, 30], [40, 50, 60], [70, 80, 90], [11, 12, 13], [14, 15, 16]]\n",
      "last 2 positions\n",
      "[11, 12, 13]\n"
     ]
    }
   ],
   "source": [
    "#Slicing of List\n",
    "x=[[10,20,30],[40,50,60],[70,80,90],[11,12,13],[14,15,16]]\n",
    "print(\"Origianl list\")\n",
    "print(x)\n",
    "print(\"first 4 positions\")\n",
    "a=x[0:4]\n",
    "print(a)\n",
    "print(\"From 0-last position\")\n",
    "b=x[0:]\n",
    "print(b)\n",
    "print(\"last 2 positions\")\n",
    "c=x[-2]\n",
    "print(c)"
   ]
  },
  {
   "cell_type": "code",
   "execution_count": 23,
   "id": "e6570a46",
   "metadata": {},
   "outputs": [
    {
     "name": "stdout",
     "output_type": "stream",
     "text": [
      "5\n"
     ]
    }
   ],
   "source": [
    "s=\"Sagar Dilip Chaudhari Chetan Salunke\"\n",
    "l=len(s)\n",
    "c=1\n",
    "for i in range(l):\n",
    "    if(s[i]==' '):\n",
    "        c=c+1\n",
    "print(c)\n"
   ]
  },
  {
   "cell_type": "code",
   "execution_count": 2,
   "id": "c5154e63",
   "metadata": {},
   "outputs": [
    {
     "name": "stdout",
     "output_type": "stream",
     "text": [
      "<class 'list'>\n",
      "23\n",
      "45\n",
      "43\n",
      "12\n",
      "34\n"
     ]
    }
   ],
   "source": [
    "#Passing List to a Function\n",
    "def show(lis):\n",
    "    print(type(lis))\n",
    "    for i in lis:\n",
    "        print(i)\n",
    "l=[23,45,43,12,34]\n",
    "show(l)   "
   ]
  },
  {
   "cell_type": "code",
   "execution_count": 5,
   "id": "f9403162",
   "metadata": {},
   "outputs": [
    {
     "name": "stdout",
     "output_type": "stream",
     "text": [
      "[0, 1, 2, 3, 4, 5, 6, 7, 8, 9]\n",
      "0\n",
      "2\n",
      "4\n",
      "6\n",
      "8\n"
     ]
    }
   ],
   "source": [
    "#list(range(start,stop,stepsize)): use to creat List\n",
    "print(list(range(0,10)))\n",
    "d=list(range(0,10,2))\n",
    "for i in d:\n",
    "    print(i)"
   ]
  },
  {
   "cell_type": "code",
   "execution_count": 6,
   "id": "41fa4494",
   "metadata": {},
   "outputs": [
    {
     "name": "stdout",
     "output_type": "stream",
     "text": [
      "<class 'list'>\n",
      "0\n",
      "2\n",
      "4\n",
      "6\n",
      "8\n",
      "<class 'list'>\n",
      "1\n",
      "3\n",
      "5\n",
      "7\n",
      "9\n",
      "<class 'list'>\n",
      "0\n",
      "2\n",
      "4\n",
      "6\n",
      "8\n"
     ]
    }
   ],
   "source": [
    "#list(range(start,stop,stepsize)) in the function\n",
    "def show(lis):\n",
    "    print(type(lis))\n",
    "    for i in lis:\n",
    "        print(i)\n",
    "d=list(range(0,10,2))\n",
    "c=list(range(1,10,2))\n",
    "e=list(range(0,10,2))\n",
    "show(d)\n",
    "show(c)\n",
    "show(e)\n",
    "\n",
    "\n"
   ]
  },
  {
   "cell_type": "code",
   "execution_count": 7,
   "id": "6c07c27d",
   "metadata": {},
   "outputs": [
    {
     "name": "stdout",
     "output_type": "stream",
     "text": [
      "10 30\n"
     ]
    }
   ],
   "source": [
    "#GENERATOR\n",
    "#generator are the functions that return a sequence of values. we use 'yield' statement to return the value from function\n",
    "#yield statement return the element from a generator function into generator object\n",
    "def display(a,b):\n",
    "    yield a\n",
    "    yield b\n",
    "x,y=display(10,30)\n",
    "print(x,y)\n",
    "    "
   ]
  },
  {
   "cell_type": "code",
   "execution_count": null,
   "id": "d4d3ab48",
   "metadata": {},
   "outputs": [],
   "source": [
    "#reduce()\\\\ imported in functools\n",
    "import functools\n"
   ]
  }
 ],
 "metadata": {
  "kernelspec": {
   "display_name": "Python 3",
   "language": "python",
   "name": "python3"
  },
  "language_info": {
   "codemirror_mode": {
    "name": "ipython",
    "version": 3
   },
   "file_extension": ".py",
   "mimetype": "text/x-python",
   "name": "python",
   "nbconvert_exporter": "python",
   "pygments_lexer": "ipython3",
   "version": "3.8.8"
  }
 },
 "nbformat": 4,
 "nbformat_minor": 5
}
