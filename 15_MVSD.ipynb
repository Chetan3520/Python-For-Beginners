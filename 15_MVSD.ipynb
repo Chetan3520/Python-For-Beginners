{
 "cells": [
  {
   "cell_type": "code",
   "execution_count": null,
   "id": "44c16c69",
   "metadata": {},
   "outputs": [],
   "source": [
    "# Array from user and finding MEAN And VARIENCE\n",
    "import math\n",
    "import array\n",
    "p=array.array('i',[])\n",
    "n=int(input(\"How many elements?\"))\n",
    "for i in range(n):\n",
    "    p.append(int(input(\"Enter the element\")))\n",
    "print(p)\n",
    "sum=0\n",
    "sq=0\n",
    "for i in range(len(p)):\n",
    "    sum=sum+p[i]\n",
    "    sq=sq+pow(p[i],2)\n",
    "mean=sum/n\n",
    "print(\"mean=\",mean)\n",
    "varience=sq-(n*pow(mean,2))\n",
    "print(\"varience=\",varience)\n",
    "print(\"Sd=\",math.sqrt(varience))"
   ]
  },
  {
   "cell_type": "markdown",
   "id": "022658c5",
   "metadata": {},
   "source": [
    "#Using List"
   ]
  },
  {
   "cell_type": "code",
   "execution_count": 1,
   "id": "d342f4f4",
   "metadata": {},
   "outputs": [
    {
     "name": "stdout",
     "output_type": "stream",
     "text": [
      "How many elements?3\n",
      "Enter the element23\n",
      "Enter the element23\n",
      "Enter the element23\n",
      "[23, 23, 23]\n",
      "mean= 23.0\n",
      "varience= 0.0\n",
      "Sd= 0.0\n"
     ]
    }
   ],
   "source": [
    "\n",
    "import math\n",
    "p=[]\n",
    "n=int(input(\"How many elements?\"))\n",
    "for i in range(n):\n",
    "    p.append(int(input(\"Enter the element\")))\n",
    "print(p)\n",
    "sum=0\n",
    "sq=0\n",
    "for i in range(len(p)):\n",
    "    sum=sum+p[i]\n",
    "    sq=sq+pow(p[i],2)\n",
    "mean=sum/n\n",
    "print(\"mean=\",mean)\n",
    "varience=sq-(n*pow(mean,2))\n",
    "print(\"varience=\",varience)\n",
    "print(\"Sd=\",math.sqrt(varience))"
   ]
  },
  {
   "cell_type": "code",
   "execution_count": null,
   "id": "f7fe1557",
   "metadata": {},
   "outputs": [],
   "source": []
  }
 ],
 "metadata": {
  "kernelspec": {
   "display_name": "Python 3",
   "language": "python",
   "name": "python3"
  },
  "language_info": {
   "codemirror_mode": {
    "name": "ipython",
    "version": 3
   },
   "file_extension": ".py",
   "mimetype": "text/x-python",
   "name": "python",
   "nbconvert_exporter": "python",
   "pygments_lexer": "ipython3",
   "version": "3.8.8"
  }
 },
 "nbformat": 4,
 "nbformat_minor": 5
}
