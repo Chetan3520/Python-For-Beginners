{
 "cells": [
  {
   "cell_type": "markdown",
   "id": "03574fa5",
   "metadata": {},
   "source": [
    "**Exception are errors detected at the time of program execution**"
   ]
  },
  {
   "cell_type": "raw",
   "id": "b5f5a469",
   "metadata": {},
   "source": [
    "Following are some exception"
   ]
  },
  {
   "cell_type": "code",
   "execution_count": 2,
   "id": "2ede906b",
   "metadata": {},
   "outputs": [
    {
     "ename": "TypeError",
     "evalue": "can only concatenate str (not \"int\") to str",
     "output_type": "error",
     "traceback": [
      "\u001b[1;31m---------------------------------------------------------------------------\u001b[0m",
      "\u001b[1;31mTypeError\u001b[0m                                 Traceback (most recent call last)",
      "\u001b[1;32m<ipython-input-2-4e34c7d68332>\u001b[0m in \u001b[0;36m<module>\u001b[1;34m\u001b[0m\n\u001b[1;32m----> 1\u001b[1;33m \u001b[0md\u001b[0m\u001b[1;33m=\u001b[0m\u001b[1;34m'chetan'\u001b[0m\u001b[1;33m+\u001b[0m\u001b[1;36m2\u001b[0m\u001b[1;33m\u001b[0m\u001b[1;33m\u001b[0m\u001b[0m\n\u001b[0m\u001b[0;32m      2\u001b[0m \u001b[0mprint\u001b[0m\u001b[1;33m(\u001b[0m\u001b[0md\u001b[0m\u001b[1;33m)\u001b[0m\u001b[1;33m\u001b[0m\u001b[1;33m\u001b[0m\u001b[0m\n",
      "\u001b[1;31mTypeError\u001b[0m: can only concatenate str (not \"int\") to str"
     ]
    }
   ],
   "source": [
    "d='chetan'+2\n",
    "print(d)"
   ]
  },
  {
   "cell_type": "code",
   "execution_count": 4,
   "id": "f061e96f",
   "metadata": {},
   "outputs": [
    {
     "name": "stdout",
     "output_type": "stream",
     "text": [
      "Enter the number1 :4\n",
      "Enter the number2 :0\n"
     ]
    },
    {
     "ename": "ZeroDivisionError",
     "evalue": "division by zero",
     "output_type": "error",
     "traceback": [
      "\u001b[1;31m---------------------------------------------------------------------------\u001b[0m",
      "\u001b[1;31mZeroDivisionError\u001b[0m                         Traceback (most recent call last)",
      "\u001b[1;32m<ipython-input-4-8e4522e30040>\u001b[0m in \u001b[0;36m<module>\u001b[1;34m\u001b[0m\n\u001b[0;32m      1\u001b[0m \u001b[0mx\u001b[0m\u001b[1;33m=\u001b[0m\u001b[0minput\u001b[0m\u001b[1;33m(\u001b[0m\u001b[1;34m\"Enter the number1 :\"\u001b[0m\u001b[1;33m)\u001b[0m\u001b[1;33m\u001b[0m\u001b[1;33m\u001b[0m\u001b[0m\n\u001b[0;32m      2\u001b[0m \u001b[0my\u001b[0m\u001b[1;33m=\u001b[0m\u001b[0minput\u001b[0m\u001b[1;33m(\u001b[0m\u001b[1;34m\"Enter the number2 :\"\u001b[0m\u001b[1;33m)\u001b[0m\u001b[1;33m\u001b[0m\u001b[1;33m\u001b[0m\u001b[0m\n\u001b[1;32m----> 3\u001b[1;33m \u001b[0mz\u001b[0m\u001b[1;33m=\u001b[0m\u001b[0mint\u001b[0m\u001b[1;33m(\u001b[0m\u001b[0mx\u001b[0m\u001b[1;33m)\u001b[0m\u001b[1;33m/\u001b[0m\u001b[0mint\u001b[0m\u001b[1;33m(\u001b[0m\u001b[0my\u001b[0m\u001b[1;33m)\u001b[0m\u001b[1;33m\u001b[0m\u001b[1;33m\u001b[0m\u001b[0m\n\u001b[0m\u001b[0;32m      4\u001b[0m \u001b[0mprint\u001b[0m\u001b[1;33m(\u001b[0m\u001b[1;34m\"Division is: \"\u001b[0m\u001b[1;33m,\u001b[0m\u001b[0mz\u001b[0m\u001b[1;33m)\u001b[0m\u001b[1;33m\u001b[0m\u001b[1;33m\u001b[0m\u001b[0m\n",
      "\u001b[1;31mZeroDivisionError\u001b[0m: division by zero"
     ]
    }
   ],
   "source": [
    "x=input(\"Enter the number1 :\")\n",
    "y=input(\"Enter the number2 :\")\n",
    "z=int(x)/int(y)\n",
    "print(\"Division is: \",z)"
   ]
  },
  {
   "cell_type": "markdown",
   "id": "c2de0990",
   "metadata": {},
   "source": [
    "**In the above program we have to handle the exception so we gonna do it as below**"
   ]
  },
  {
   "cell_type": "code",
   "execution_count": 1,
   "id": "548d797e",
   "metadata": {},
   "outputs": [
    {
     "name": "stdout",
     "output_type": "stream",
     "text": [
      "Enter the number1 :2\n",
      "Enter the number2 :0\n",
      "exception occured:  division by zero\n",
      "Division is:  None\n"
     ]
    }
   ],
   "source": [
    "x=input(\"Enter the number1 :\")\n",
    "y=input(\"Enter the number2 :\")\n",
    "try:\n",
    "    z=int(x)/int(y)\n",
    "except Exception as e:             #Exception Spell must be 'Exception'\n",
    "    print('exception occured: ',e) #in the above program Exception(Error) is 'division by zero' so this is store in e here\n",
    "    z=None\n",
    "print(\"Division is: \",z)"
   ]
  },
  {
   "cell_type": "code",
   "execution_count": 7,
   "id": "8ce2ef0a",
   "metadata": {},
   "outputs": [
    {
     "name": "stdout",
     "output_type": "stream",
     "text": [
      "Enter the number1 :3\n",
      "Enter the number2 :0\n",
      "Division by zero exception \n",
      "Division is:  None\n"
     ]
    }
   ],
   "source": [
    "x=input(\"Enter the number1 :\")\n",
    "y=input(\"Enter the number2 :\")\n",
    "try:\n",
    "    z=int(x)/int(y)\n",
    "except ZeroDivisionError as e:             #Exception Spell must be 'Exception'\n",
    "    print('Division by zero exception ') #in the above program Exception(Error) is 'division by zero' so this is store in e here\n",
    "    z=None\n",
    "print(\"Division is: \",z)"
   ]
  },
  {
   "cell_type": "markdown",
   "id": "4a9b2ff0",
   "metadata": {},
   "source": [
    "**Handling Multiple Exception**"
   ]
  },
  {
   "cell_type": "code",
   "execution_count": 19,
   "id": "d19dd377",
   "metadata": {},
   "outputs": [
    {
     "name": "stdout",
     "output_type": "stream",
     "text": [
      "Enter the number1 :4\n",
      "Enter the number2 :0\n",
      "exception occured:  division by zero\n",
      "Division is : None\n"
     ]
    }
   ],
   "source": [
    "x=input(\"Enter the number1 :\")\n",
    "y=input(\"Enter the number2 :\")\n",
    "try:\n",
    "    z=int(x)/int(y)\n",
    "except Exception as e:             #Exception Spell must be 'Exception'\n",
    "    print('exception occured: ',e) #in the above program Exception(Error) is 'division by zero' so this is store in e here\n",
    "    z=None\n",
    "except TypeError as e:     #so for all type of exception we can recognize using this (TypeError)\n",
    "    print('Type error exception: ',e)\n",
    "    z=None\n",
    "print(\"Division is :\", z)"
   ]
  },
  {
   "cell_type": "code",
   "execution_count": null,
   "id": "0f25582d",
   "metadata": {},
   "outputs": [],
   "source": []
  },
  {
   "cell_type": "code",
   "execution_count": null,
   "id": "a98d84df",
   "metadata": {},
   "outputs": [],
   "source": []
  }
 ],
 "metadata": {
  "kernelspec": {
   "display_name": "Python 3",
   "language": "python",
   "name": "python3"
  },
  "language_info": {
   "codemirror_mode": {
    "name": "ipython",
    "version": 3
   },
   "file_extension": ".py",
   "mimetype": "text/x-python",
   "name": "python",
   "nbconvert_exporter": "python",
   "pygments_lexer": "ipython3",
   "version": "3.8.8"
  }
 },
 "nbformat": 4,
 "nbformat_minor": 5
}
