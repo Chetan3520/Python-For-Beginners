{
 "cells": [
  {
   "cell_type": "markdown",
   "id": "2ef46772",
   "metadata": {},
   "source": [
    "# Count the frequency of the elements of list and print elements of list and its corresponding frequencies in increasing order of the elements of list."
   ]
  },
  {
   "cell_type": "code",
   "execution_count": 2,
   "id": "a4902595",
   "metadata": {},
   "outputs": [
    {
     "name": "stdout",
     "output_type": "stream",
     "text": [
      "4 2\n",
      "10 3\n",
      "20 3\n",
      "45 2\n",
      "56 1\n",
      "90 3\n",
      "95 2\n",
      "100 2\n"
     ]
    }
   ],
   "source": [
    "a=[10,20,20,10,4,45,4,56,45,20,10,90,95,90,95,100,90,100]\n",
    "a.sort()\n",
    "b=1 #any no other than list\n",
    "for i in a:\n",
    "    if(b!=i):\n",
    "        print(i,a.count(i))\n",
    "        b=i\n",
    "\n",
    "        "
   ]
  },
  {
   "cell_type": "markdown",
   "id": "9b17e6cc",
   "metadata": {},
   "source": [
    "#### OR"
   ]
  },
  {
   "cell_type": "code",
   "execution_count": 9,
   "id": "bcfe23ca",
   "metadata": {},
   "outputs": [
    {
     "name": "stdout",
     "output_type": "stream",
     "text": [
      "4 2\n",
      "10 3\n",
      "20 3\n",
      "45 2\n",
      "56 1\n",
      "90 3\n",
      "95 2\n",
      "100 2\n"
     ]
    }
   ],
   "source": [
    "a=[10,20,20,10,4,45,4,56,45,20,10,90,95,90,95,100,90,100]\n",
    "a.sort()\n",
    "l=[]\n",
    "for i in a:\n",
    "    if i not in l:\n",
    "        l.append(i)\n",
    "        print(i,a.count(i))"
   ]
  },
  {
   "cell_type": "markdown",
   "id": "b8669c47",
   "metadata": {},
   "source": [
    "#### OR"
   ]
  },
  {
   "cell_type": "code",
   "execution_count": 8,
   "id": "1b6342a4",
   "metadata": {},
   "outputs": [
    {
     "name": "stdout",
     "output_type": "stream",
     "text": [
      "4 2\n",
      "10 3\n",
      "20 3\n",
      "45 2\n",
      "56 1\n",
      "90 3\n",
      "95 2\n",
      "100 2\n"
     ]
    }
   ],
   "source": [
    "a=[10,20,20,10,4,45,4,56,45,20,10,90,95,90,95,100,90,100]\n",
    "a.sort()\n",
    "m=max(a)\n",
    "for i in range(m+1):\n",
    "    if a.count(i)!=0:\n",
    "        print(i,a.count(i))"
   ]
  },
  {
   "cell_type": "markdown",
   "id": "221a3a0e",
   "metadata": {},
   "source": [
    "#### OR"
   ]
  },
  {
   "cell_type": "code",
   "execution_count": 13,
   "id": "398d1d4f",
   "metadata": {},
   "outputs": [
    {
     "data": {
      "text/html": [
       "<div>\n",
       "<style scoped>\n",
       "    .dataframe tbody tr th:only-of-type {\n",
       "        vertical-align: middle;\n",
       "    }\n",
       "\n",
       "    .dataframe tbody tr th {\n",
       "        vertical-align: top;\n",
       "    }\n",
       "\n",
       "    .dataframe thead th {\n",
       "        text-align: right;\n",
       "    }\n",
       "</style>\n",
       "<table border=\"1\" class=\"dataframe\">\n",
       "  <thead>\n",
       "    <tr style=\"text-align: right;\">\n",
       "      <th></th>\n",
       "      <th>0</th>\n",
       "      <th>1</th>\n",
       "    </tr>\n",
       "  </thead>\n",
       "  <tbody>\n",
       "    <tr>\n",
       "      <th>0</th>\n",
       "      <td>4</td>\n",
       "      <td>2</td>\n",
       "    </tr>\n",
       "    <tr>\n",
       "      <th>1</th>\n",
       "      <td>10</td>\n",
       "      <td>3</td>\n",
       "    </tr>\n",
       "    <tr>\n",
       "      <th>2</th>\n",
       "      <td>20</td>\n",
       "      <td>3</td>\n",
       "    </tr>\n",
       "    <tr>\n",
       "      <th>3</th>\n",
       "      <td>45</td>\n",
       "      <td>2</td>\n",
       "    </tr>\n",
       "    <tr>\n",
       "      <th>4</th>\n",
       "      <td>56</td>\n",
       "      <td>1</td>\n",
       "    </tr>\n",
       "    <tr>\n",
       "      <th>5</th>\n",
       "      <td>90</td>\n",
       "      <td>3</td>\n",
       "    </tr>\n",
       "    <tr>\n",
       "      <th>6</th>\n",
       "      <td>95</td>\n",
       "      <td>2</td>\n",
       "    </tr>\n",
       "    <tr>\n",
       "      <th>7</th>\n",
       "      <td>100</td>\n",
       "      <td>2</td>\n",
       "    </tr>\n",
       "  </tbody>\n",
       "</table>\n",
       "</div>"
      ],
      "text/plain": [
       "     0  1\n",
       "0    4  2\n",
       "1   10  3\n",
       "2   20  3\n",
       "3   45  2\n",
       "4   56  1\n",
       "5   90  3\n",
       "6   95  2\n",
       "7  100  2"
      ]
     },
     "execution_count": 13,
     "metadata": {},
     "output_type": "execute_result"
    }
   ],
   "source": [
    "import pandas as pd\n",
    "a=[10,20,20,10,4,45,4,56,45,20,10,90,95,90,95,100,90,100]\n",
    "l=[]\n",
    "for i in set(a):\n",
    "    l.append([i,a.count(i)])\n",
    "l.sort()\n",
    "pd.DataFrame(l)"
   ]
  },
  {
   "cell_type": "code",
   "execution_count": 15,
   "id": "e62db05d",
   "metadata": {},
   "outputs": [
    {
     "name": "stdout",
     "output_type": "stream",
     "text": [
      "4 2\n",
      "10 3\n",
      "20 3\n",
      "45 2\n",
      "56 1\n",
      "90 3\n",
      "95 2\n",
      "100 2\n"
     ]
    }
   ],
   "source": [
    "a=[10,20,20,10,4,45,4,56,45,20,10,90,95,90,95,100,90,100]\n",
    "s=set(a)\n",
    "l=list(s)\n",
    "l.sort()\n",
    "for i in l:\n",
    "    print(i,a.count(i))"
   ]
  },
  {
   "cell_type": "code",
   "execution_count": 1,
   "id": "0a7cccb2",
   "metadata": {},
   "outputs": [
    {
     "name": "stdout",
     "output_type": "stream",
     "text": [
      "Note: you may need to restart the kernel to use updated packages.\n"
     ]
    },
    {
     "name": "stderr",
     "output_type": "stream",
     "text": [
      "ERROR: Could not find a version that satisfies the requirement xelatex\n",
      "ERROR: No matching distribution found for xelatex\n"
     ]
    }
   ],
   "source": [
    "pip install xelatex"
   ]
  },
  {
   "cell_type": "code",
   "execution_count": null,
   "id": "3396882b",
   "metadata": {},
   "outputs": [],
   "source": []
  }
 ],
 "metadata": {
  "kernelspec": {
   "display_name": "Python 3",
   "language": "python",
   "name": "python3"
  },
  "language_info": {
   "codemirror_mode": {
    "name": "ipython",
    "version": 3
   },
   "file_extension": ".py",
   "mimetype": "text/x-python",
   "name": "python",
   "nbconvert_exporter": "python",
   "pygments_lexer": "ipython3",
   "version": "3.8.8"
  }
 },
 "nbformat": 4,
 "nbformat_minor": 5
}
