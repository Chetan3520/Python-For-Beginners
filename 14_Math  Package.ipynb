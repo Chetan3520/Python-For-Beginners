{
 "cells": [
  {
   "cell_type": "code",
   "execution_count": 5,
   "id": "ab42d653",
   "metadata": {},
   "outputs": [
    {
     "data": {
      "text/plain": [
       "module"
      ]
     },
     "execution_count": 5,
     "metadata": {},
     "output_type": "execute_result"
    }
   ],
   "source": [
    "type(math)\n"
   ]
  },
  {
   "cell_type": "markdown",
   "id": "93f8eab9",
   "metadata": {},
   "source": [
    "**#To know that how many function are in math Module**\n"
   ]
  },
  {
   "cell_type": "code",
   "execution_count": 3,
   "id": "e0ba571f",
   "metadata": {},
   "outputs": [
    {
     "data": {
      "text/plain": [
       "['__doc__',\n",
       " '__loader__',\n",
       " '__name__',\n",
       " '__package__',\n",
       " '__spec__',\n",
       " 'acos',\n",
       " 'acosh',\n",
       " 'asin',\n",
       " 'asinh',\n",
       " 'atan',\n",
       " 'atan2',\n",
       " 'atanh',\n",
       " 'ceil',\n",
       " 'comb',\n",
       " 'copysign',\n",
       " 'cos',\n",
       " 'cosh',\n",
       " 'degrees',\n",
       " 'dist',\n",
       " 'e',\n",
       " 'erf',\n",
       " 'erfc',\n",
       " 'exp',\n",
       " 'expm1',\n",
       " 'fabs',\n",
       " 'factorial',\n",
       " 'floor',\n",
       " 'fmod',\n",
       " 'frexp',\n",
       " 'fsum',\n",
       " 'gamma',\n",
       " 'gcd',\n",
       " 'hypot',\n",
       " 'inf',\n",
       " 'isclose',\n",
       " 'isfinite',\n",
       " 'isinf',\n",
       " 'isnan',\n",
       " 'isqrt',\n",
       " 'ldexp',\n",
       " 'lgamma',\n",
       " 'log',\n",
       " 'log10',\n",
       " 'log1p',\n",
       " 'log2',\n",
       " 'modf',\n",
       " 'nan',\n",
       " 'perm',\n",
       " 'pi',\n",
       " 'pow',\n",
       " 'prod',\n",
       " 'radians',\n",
       " 'remainder',\n",
       " 'sin',\n",
       " 'sinh',\n",
       " 'sqrt',\n",
       " 'tan',\n",
       " 'tanh',\n",
       " 'tau',\n",
       " 'trunc']"
      ]
     },
     "execution_count": 3,
     "metadata": {},
     "output_type": "execute_result"
    }
   ],
   "source": [
    "import math\n",
    "dir(math)#directary of math Module"
   ]
  },
  {
   "cell_type": "markdown",
   "id": "220379be",
   "metadata": {},
   "source": [
    "# fabs() Gives Float Absolute value"
   ]
  },
  {
   "cell_type": "code",
   "execution_count": 4,
   "id": "12d047c7",
   "metadata": {},
   "outputs": [
    {
     "name": "stdout",
     "output_type": "stream",
     "text": [
      "2.3\n",
      "3.0\n",
      "3.78\n"
     ]
    }
   ],
   "source": [
    "#fabs() Gives Float Absolute value\n",
    "print(math.fabs(-2.3))\n",
    "print(math.fabs(-3))\n",
    "print(math.fabs(-3.78))"
   ]
  },
  {
   "cell_type": "markdown",
   "id": "dd4a336e",
   "metadata": {},
   "source": [
    "# ceil() Gives Upward to the nearest int\n"
   ]
  },
  {
   "cell_type": "code",
   "execution_count": 5,
   "id": "c6768abe",
   "metadata": {},
   "outputs": [
    {
     "name": "stdout",
     "output_type": "stream",
     "text": [
      "3\n",
      "-3\n"
     ]
    }
   ],
   "source": [
    "print(math.ceil(2.5))\n",
    "print(math.ceil(-3.4))"
   ]
  },
  {
   "cell_type": "markdown",
   "id": "1caf9728",
   "metadata": {},
   "source": [
    "# floor( ) Gives Greatest Integer function\n"
   ]
  },
  {
   "cell_type": "code",
   "execution_count": 6,
   "id": "03ca8a31",
   "metadata": {},
   "outputs": [
    {
     "name": "stdout",
     "output_type": "stream",
     "text": [
      "3\n",
      "3\n",
      "-4\n",
      "-4\n",
      "-4\n"
     ]
    }
   ],
   "source": [
    "print(math.floor(3.011))\n",
    "print(math.floor(3.802))\n",
    "print(math.floor(-3.4))\n",
    "print(math.floor(-3.92))\n",
    "print(math.floor(-3.01))\n"
   ]
  },
  {
   "cell_type": "markdown",
   "id": "448f0d01",
   "metadata": {},
   "source": [
    "# trunc() Gives Exact Integer (escape Fractional part)"
   ]
  },
  {
   "cell_type": "code",
   "execution_count": 7,
   "id": "efcece2f",
   "metadata": {},
   "outputs": [
    {
     "name": "stdout",
     "output_type": "stream",
     "text": [
      "2\n",
      "-3\n",
      "2\n",
      "-3\n"
     ]
    }
   ],
   "source": [
    "\n",
    "print(math.trunc(2.3))\n",
    "print(math.trunc(-3.4))\n",
    "print(math.trunc(2.9))\n",
    "print(math.trunc(-3.82))\n",
    "\n"
   ]
  },
  {
   "cell_type": "markdown",
   "id": "4db83616",
   "metadata": {},
   "source": [
    "# factorial() Only takes Int value for factorial\n"
   ]
  },
  {
   "cell_type": "code",
   "execution_count": 8,
   "id": "a11d4ed4",
   "metadata": {},
   "outputs": [
    {
     "name": "stdout",
     "output_type": "stream",
     "text": [
      "2\n",
      "24\n",
      "720\n"
     ]
    }
   ],
   "source": [
    "print(math.factorial(2))\n",
    "print(math.factorial(4))\n",
    "print(math.factorial(6))"
   ]
  },
  {
   "cell_type": "code",
   "execution_count": 9,
   "id": "7e404fa6",
   "metadata": {},
   "outputs": [
    {
     "name": "stdout",
     "output_type": "stream",
     "text": [
      "1\n",
      "2\n",
      "6\n",
      "24\n"
     ]
    }
   ],
   "source": [
    "for i in range(1,5):\n",
    "    print(math.factorial(i))"
   ]
  },
  {
   "cell_type": "markdown",
   "id": "8e3227f0",
   "metadata": {},
   "source": [
    "# Finding Factorial of Integers given by user\n"
   ]
  },
  {
   "cell_type": "code",
   "execution_count": null,
   "id": "2870f8cc",
   "metadata": {},
   "outputs": [],
   "source": [
    "#Finding Factorial of Integers given by user\n",
    "n1=int(input(\"Enter the star Point of range\"))\n",
    "n2=int(input(\"Enter the end Point of range\"))\n",
    "for i in range(n1,n2):\n",
    "    import math\n",
    "    print(math.factorial(i))\n"
   ]
  },
  {
   "cell_type": "code",
   "execution_count": 7,
   "id": "95c4c3aa",
   "metadata": {},
   "outputs": [
    {
     "name": "stdout",
     "output_type": "stream",
     "text": [
      "Enter the Number5.6\n",
      "Greatest integer function of the Number is: 5\n"
     ]
    }
   ],
   "source": [
    "##### Find Greatest Integer function of the number Withought using floor , given by user\n",
    "import math\n",
    "n=float(input(\"Enter the Number\"))\n",
    "if(n>=1):\n",
    "    print(\"Greatest integer function of the Number is:\",math.trunc(n))\n",
    "elif(n>=0 and n<1):\n",
    "    print(\"Greatest integer function of the Number is:\",0)\n",
    "else:\n",
    "    print(\"Greatest integer function of the Number is :\",math.trunc(n-1))\n"
   ]
  },
  {
   "cell_type": "code",
   "execution_count": null,
   "id": "d605b7a3",
   "metadata": {},
   "outputs": [],
   "source": [
    "print(math.floor(-3.011))"
   ]
  },
  {
   "cell_type": "markdown",
   "id": "ce6669e2",
   "metadata": {},
   "source": [
    "# Find Greatest Integer function of the number  using floor , given by user\n"
   ]
  },
  {
   "cell_type": "code",
   "execution_count": null,
   "id": "ca585ba2",
   "metadata": {},
   "outputs": [],
   "source": [
    "\n",
    "import math\n",
    "n=float(input(\"Enter the Number\"))\n",
    "print(\"Greatest integer function of the Number is:\",math.floor(n))"
   ]
  },
  {
   "cell_type": "markdown",
   "id": "2db17b0d",
   "metadata": {},
   "source": [
    "# gcd() Greatest Common Division\n"
   ]
  },
  {
   "cell_type": "code",
   "execution_count": null,
   "id": "9a533d06",
   "metadata": {},
   "outputs": [],
   "source": [
    "import math\n",
    "print(math.gcd(2,4))\n",
    "print(math.gcd(0,12))"
   ]
  },
  {
   "cell_type": "markdown",
   "id": "10d5a937",
   "metadata": {},
   "source": [
    "# sqrt()\n"
   ]
  },
  {
   "cell_type": "code",
   "execution_count": 1,
   "id": "92593ce7",
   "metadata": {},
   "outputs": [
    {
     "name": "stdout",
     "output_type": "stream",
     "text": [
      "4.0\n"
     ]
    }
   ],
   "source": [
    "import math\n",
    "print(math.sqrt(16))\n"
   ]
  },
  {
   "cell_type": "code",
   "execution_count": 2,
   "id": "f7ac4e2b",
   "metadata": {},
   "outputs": [
    {
     "name": "stdout",
     "output_type": "stream",
     "text": [
      "3.141592653589793\n"
     ]
    }
   ],
   "source": [
    "print(math.pi)"
   ]
  },
  {
   "cell_type": "code",
   "execution_count": 3,
   "id": "e3d92446",
   "metadata": {},
   "outputs": [
    {
     "name": "stdout",
     "output_type": "stream",
     "text": [
      "2.0\n"
     ]
    }
   ],
   "source": [
    "print(math.log10(100))"
   ]
  },
  {
   "cell_type": "markdown",
   "id": "53c78416",
   "metadata": {},
   "source": [
    "**#Calender Module**"
   ]
  },
  {
   "cell_type": "code",
   "execution_count": 8,
   "id": "b33dca5b",
   "metadata": {},
   "outputs": [
    {
     "ename": "ModuleNotFoundError",
     "evalue": "No module named 'calender'",
     "output_type": "error",
     "traceback": [
      "\u001b[1;31m---------------------------------------------------------------------------\u001b[0m",
      "\u001b[1;31mModuleNotFoundError\u001b[0m                       Traceback (most recent call last)",
      "\u001b[1;32m<ipython-input-8-a361195f413e>\u001b[0m in \u001b[0;36m<module>\u001b[1;34m\u001b[0m\n\u001b[1;32m----> 1\u001b[1;33m \u001b[1;32mimport\u001b[0m \u001b[0mcalender\u001b[0m\u001b[1;33m\u001b[0m\u001b[1;33m\u001b[0m\u001b[0m\n\u001b[0m",
      "\u001b[1;31mModuleNotFoundError\u001b[0m: No module named 'calender'"
     ]
    }
   ],
   "source": [
    "import calender  "
   ]
  },
  {
   "cell_type": "code",
   "execution_count": null,
   "id": "91a4f012",
   "metadata": {},
   "outputs": [],
   "source": []
  }
 ],
 "metadata": {
  "kernelspec": {
   "display_name": "Python 3",
   "language": "python",
   "name": "python3"
  },
  "language_info": {
   "codemirror_mode": {
    "name": "ipython",
    "version": 3
   },
   "file_extension": ".py",
   "mimetype": "text/x-python",
   "name": "python",
   "nbconvert_exporter": "python",
   "pygments_lexer": "ipython3",
   "version": "3.8.8"
  }
 },
 "nbformat": 4,
 "nbformat_minor": 5
}
