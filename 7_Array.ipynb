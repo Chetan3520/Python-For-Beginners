{
 "cells": [
  {
   "cell_type": "markdown",
   "id": "f20f0417",
   "metadata": {},
   "source": [
    "# One Dimentional Array"
   ]
  },
  {
   "cell_type": "code",
   "execution_count": 15,
   "id": "3cd5ff66",
   "metadata": {},
   "outputs": [
    {
     "name": "stdout",
     "output_type": "stream",
     "text": [
      "1\n",
      "3\n",
      "4\n",
      "6\n",
      "4\n"
     ]
    }
   ],
   "source": [
    "\n",
    "import array\n",
    "c=array.array('i',[1,3,4,6,4])\n",
    "l=len(c)\n",
    "i=0\n",
    "while(i<l):\n",
    "    print(c[i])\n",
    "    i=i+1"
   ]
  },
  {
   "cell_type": "markdown",
   "id": "596c58ac",
   "metadata": {},
   "source": [
    "# append(By default insert element at last)\n"
   ]
  },
  {
   "cell_type": "code",
   "execution_count": 4,
   "id": "1754836a",
   "metadata": {},
   "outputs": [
    {
     "name": "stdout",
     "output_type": "stream",
     "text": [
      "1\n",
      "3\n",
      "4\n",
      "6\n",
      "4\n",
      "122\n"
     ]
    }
   ],
   "source": [
    "#block no start from zero so element insert or remove next to what we want to.\n",
    "#exam. if want to remove or insert at no 4 in array then we will pass 3\n",
    "import array\n",
    "c=array.array('i',[1,3,4,6,4])\n",
    "c.append(122)\n",
    "l=len(c)\n",
    "i=0\n",
    "while(i<l):\n",
    "    print(c[i])\n",
    "    i=i+1"
   ]
  },
  {
   "cell_type": "markdown",
   "id": "023977f9",
   "metadata": {},
   "source": [
    "# insert() (Insert the element at block where we want to insert )\n"
   ]
  },
  {
   "cell_type": "code",
   "execution_count": 7,
   "id": "e846b6a9",
   "metadata": {},
   "outputs": [
    {
     "name": "stdout",
     "output_type": "stream",
     "text": [
      "1\n",
      "3\n",
      "5\n",
      "2\n",
      "107\n",
      "6\n",
      "7\n",
      "8\n",
      "145\n",
      "155\n"
     ]
    }
   ],
   "source": [
    "import array\n",
    "a=array.array('i',[1,3,5,2,6,7,8])\n",
    "a.insert(4,107)\n",
    "a.append(145)\n",
    "a.insert(10,155)\n",
    "i=0\n",
    "l=len(a)\n",
    "while(i<l):\n",
    "    print(a[i])\n",
    "    i+=1\n",
    "    "
   ]
  },
  {
   "cell_type": "markdown",
   "id": "b4313836",
   "metadata": {},
   "source": [
    "# pop() (Remove By-default last element of array)\n"
   ]
  },
  {
   "cell_type": "code",
   "execution_count": 14,
   "id": "204e396d",
   "metadata": {},
   "outputs": [
    {
     "name": "stdout",
     "output_type": "stream",
     "text": [
      "111\n",
      "123\n",
      "134\n",
      "543\n"
     ]
    }
   ],
   "source": [
    "import array\n",
    "a=array.array('i',[111,123,134,543,178])\n",
    "a.pop()\n",
    "i=0\n",
    "l=len(a)\n",
    "while(i<l):\n",
    "    print(a[i])\n",
    "    i+=1\n",
    "    "
   ]
  },
  {
   "cell_type": "markdown",
   "id": "0c49de7f",
   "metadata": {},
   "source": [
    "# pop(n) (Remove the element at block where we want to remove)\n"
   ]
  },
  {
   "cell_type": "code",
   "execution_count": 15,
   "id": "dac368cd",
   "metadata": {},
   "outputs": [
    {
     "name": "stdout",
     "output_type": "stream",
     "text": [
      "111\n",
      "123\n",
      "134\n",
      "178\n"
     ]
    }
   ],
   "source": [
    "import array\n",
    "a=array.array('i',[111,123,134,543,178])\n",
    "a.pop(3)\n",
    "i=0\n",
    "l=len(a)\n",
    "while(i<l):\n",
    "    print(a[i])\n",
    "    i+=1\n",
    "    "
   ]
  },
  {
   "cell_type": "markdown",
   "id": "274d7cb6",
   "metadata": {},
   "source": [
    "# reverse() Reverse array\n"
   ]
  },
  {
   "cell_type": "code",
   "execution_count": 25,
   "id": "57658709",
   "metadata": {},
   "outputs": [
    {
     "name": "stdout",
     "output_type": "stream",
     "text": [
      "1.440000057220459\n",
      "3.5\n",
      "1.2000000476837158\n"
     ]
    }
   ],
   "source": [
    "import array\n",
    "p=array.array('f',[1.2,3.5,1.44])\n",
    "p.reverse()\n",
    "l=len(p)\n",
    "i=0\n",
    "while(i<l):\n",
    "    print(p[i])\n",
    "    i+=1\n",
    "    "
   ]
  },
  {
   "cell_type": "markdown",
   "id": "3a57b494",
   "metadata": {},
   "source": [
    "# Extend()\n"
   ]
  },
  {
   "cell_type": "code",
   "execution_count": 28,
   "id": "634cd57a",
   "metadata": {},
   "outputs": [
    {
     "name": "stdout",
     "output_type": "stream",
     "text": [
      "12\n",
      "35\n",
      "144\n",
      "111\n",
      "123\n",
      "134\n",
      "543\n",
      "178\n"
     ]
    }
   ],
   "source": [
    "import array\n",
    "p=array.array('i',[12,35,144])\n",
    "a=array.array('i',[111,123,134,543,178])\n",
    "p.extend(a)\n",
    "l=len(p)\n",
    "i=0\n",
    "while(i<l):\n",
    "    print(p[i])\n",
    "    i+=1\n",
    "\n",
    "\n"
   ]
  },
  {
   "cell_type": "markdown",
   "id": "2a979ac1",
   "metadata": {},
   "source": [
    "# extention by addition method\n"
   ]
  },
  {
   "cell_type": "code",
   "execution_count": 29,
   "id": "cbbb62ba",
   "metadata": {},
   "outputs": [
    {
     "name": "stdout",
     "output_type": "stream",
     "text": [
      "12\n",
      "35\n",
      "144\n",
      "111\n",
      "123\n",
      "134\n",
      "543\n",
      "178\n"
     ]
    }
   ],
   "source": [
    "import array\n",
    "p=array.array('i',[12,35,144])\n",
    "a=array.array('i',[111,123,134,543,178])\n",
    "c=p+a\n",
    "l=len(c)\n",
    "i=0\n",
    "while(i<l):\n",
    "    print(c[i])\n",
    "    i+=1"
   ]
  },
  {
   "cell_type": "code",
   "execution_count": 32,
   "id": "b619ce42",
   "metadata": {},
   "outputs": [
    {
     "name": "stdout",
     "output_type": "stream",
     "text": [
      "enter 10\n",
      "1\n",
      "3\n",
      "5\n",
      "7\n",
      "9\n",
      "11\n",
      "13\n",
      "15\n",
      "17\n",
      "19\n"
     ]
    }
   ],
   "source": [
    "n=int(input(\"enter \"))\n",
    "i=0\n",
    "c=0\n",
    "for i in range(1,n+1):\n",
    "        print(2*i-1)\n",
    "        "
   ]
  },
  {
   "cell_type": "code",
   "execution_count": 34,
   "id": "1634cf87",
   "metadata": {},
   "outputs": [
    {
     "name": "stdout",
     "output_type": "stream",
     "text": [
      "1\n",
      "2\n",
      "3\n",
      "4\n"
     ]
    }
   ],
   "source": [
    "a=[4,2,3,1]\n",
    "a.sort()\n",
    "l=len(a)\n",
    "i=0\n",
    "while(i<l):\n",
    "    print(a[i])\n",
    "    i+=1"
   ]
  },
  {
   "cell_type": "markdown",
   "id": "042047d0",
   "metadata": {},
   "source": [
    "# Slicing of Array\n"
   ]
  },
  {
   "cell_type": "code",
   "execution_count": 10,
   "id": "1b8d55b1",
   "metadata": {},
   "outputs": [
    {
     "name": "stdout",
     "output_type": "stream",
     "text": [
      "12\n",
      "13\n",
      "17\n",
      "94\n",
      "56\n"
     ]
    }
   ],
   "source": [
    "import array\n",
    "a=array.array('i',[12,13,17,94,56])\n",
    "l=len(a)\n",
    "c=a[0:l]\n",
    "for i in c:\n",
    "    print(i)"
   ]
  },
  {
   "cell_type": "markdown",
   "id": "3e151546",
   "metadata": {},
   "source": [
    "# Slicing in Numpy\n"
   ]
  },
  {
   "cell_type": "code",
   "execution_count": 3,
   "id": "3e363c22",
   "metadata": {},
   "outputs": [
    {
     "name": "stdout",
     "output_type": "stream",
     "text": [
      "12\n",
      "15\n",
      "45\n",
      "76\n",
      "7\n"
     ]
    }
   ],
   "source": [
    "import numpy\n",
    "a=numpy.array([12,15,45,76,7])\n",
    "l=len(a)\n",
    "c=a[0:l]\n",
    "for i in c:\n",
    "    print(i)\n",
    "\n",
    "\n",
    "\n"
   ]
  },
  {
   "cell_type": "code",
   "execution_count": 16,
   "id": "8eb83369",
   "metadata": {},
   "outputs": [
    {
     "name": "stdout",
     "output_type": "stream",
     "text": [
      "2\n",
      "9\n",
      "45\n",
      "215\n",
      "1024\n"
     ]
    }
   ],
   "source": [
    "import numpy\n",
    "\n",
    "a=numpy.logspace(1,10,5,base=2,dtype=int)\n",
    "l=len(a)\n",
    "c=a[0:l]\n",
    "for i in c:\n",
    "    print(i)\n",
    "\n"
   ]
  },
  {
   "cell_type": "code",
   "execution_count": 25,
   "id": "003821c3",
   "metadata": {},
   "outputs": [
    {
     "name": "stdout",
     "output_type": "stream",
     "text": [
      "1\n",
      "25\n",
      "50\n",
      "75\n",
      "100\n"
     ]
    }
   ],
   "source": [
    "import numpy\n",
    "a=numpy.linspace(1,100,5,dtype=int)\n",
    "l=len(a)\n",
    "c=a[0:l]\n",
    "for i in c:\n",
    "    print(i)\n",
    "\n"
   ]
  },
  {
   "cell_type": "code",
   "execution_count": 28,
   "id": "09f463c9",
   "metadata": {},
   "outputs": [
    {
     "name": "stdout",
     "output_type": "stream",
     "text": [
      "0\n",
      "5\n",
      "10\n",
      "15\n",
      "20\n",
      "25\n",
      "30\n",
      "35\n",
      "40\n",
      "45\n",
      "50\n",
      "55\n",
      "60\n",
      "65\n",
      "70\n",
      "75\n",
      "80\n",
      "85\n",
      "90\n",
      "95\n"
     ]
    }
   ],
   "source": [
    "import numpy\n",
    "a=numpy.arange(0,100,5,dtype=int)\n",
    "l=len(a)\n",
    "c=a[0:l]\n",
    "for i in c:\n",
    "    print(i)\n",
    "\n"
   ]
  },
  {
   "cell_type": "code",
   "execution_count": 32,
   "id": "fd8052c5",
   "metadata": {},
   "outputs": [
    {
     "name": "stdout",
     "output_type": "stream",
     "text": [
      "1\n",
      "4\n",
      "5\n",
      "6\n",
      "2\n",
      "6\n",
      "7\n",
      "8\n",
      "9\n",
      "2\n"
     ]
    }
   ],
   "source": [
    "import array\n",
    "a=array.array('i',[1,4,5,6,2])\n",
    "b=array.array('i',[6,7,8,9,2])\n",
    "c=a+b\n",
    "#in array addition of two array follows extention of second array into first array\n",
    "l=len(c)\n",
    "d=c[0:l]\n",
    "for i in d:\n",
    "    print(i)\n"
   ]
  },
  {
   "cell_type": "code",
   "execution_count": null,
   "id": "7ca90a9b",
   "metadata": {},
   "outputs": [],
   "source": []
  },
  {
   "cell_type": "code",
   "execution_count": 7,
   "id": "b28addca",
   "metadata": {},
   "outputs": [
    {
     "name": "stdout",
     "output_type": "stream",
     "text": [
      "7\n",
      "11\n",
      "13\n",
      "15\n",
      "4\n"
     ]
    }
   ],
   "source": [
    "import numpy\n",
    "a=numpy.array([1,4,5,6,2])\n",
    "b=numpy.array([6,7,8,9,2])\n",
    "c=a+b\n",
    "#in Numpy array addition of two array follows element to element addiion\n",
    "l=len(c)\n",
    "d=c[0:l]\n",
    "for i in d:\n",
    "    print(i)\n"
   ]
  },
  {
   "cell_type": "code",
   "execution_count": 1,
   "id": "5451d414",
   "metadata": {},
   "outputs": [],
   "source": [
    "import numpy\n",
    "a=numpy.array([1,4,5,6,2])\n",
    "b=numpy.array([6,7,8,9,2])  \n"
   ]
  },
  {
   "cell_type": "code",
   "execution_count": 2,
   "id": "ecc976f3",
   "metadata": {},
   "outputs": [
    {
     "name": "stdout",
     "output_type": "stream",
     "text": [
      "How many elements?3\n",
      "Enter the element1\n",
      "Enter the element2\n",
      "Enter the element3\n",
      "array('i', [1, 2, 3])\n",
      "1\n",
      "2\n",
      "3\n"
     ]
    }
   ],
   "source": [
    "#Array from user\n",
    "import array\n",
    "p=array.array('i',[])\n",
    "n=int(input(\"How many elements?\"))\n",
    "for i in range(n):\n",
    "    p.append(int(input(\"Enter the element\")))\n",
    "print(p)\n",
    "for i in range(len(p)):\n",
    "    print(p[i])"
   ]
  },
  {
   "cell_type": "code",
   "execution_count": 14,
   "id": "51b264c1",
   "metadata": {},
   "outputs": [
    {
     "name": "stdout",
     "output_type": "stream",
     "text": [
      "How many elements?2\n",
      "Enter the element12\n",
      "Enter the element13\n",
      "array('i', [12, 13])\n",
      "mean= 12.5\n",
      "varience= 0.5\n",
      "Sd= 0.7071067811865476\n"
     ]
    }
   ],
   "source": [
    "#Array from user and finding MEAN And VARIENCE\n",
    "import math\n",
    "import array\n",
    "p=array.array('i',[])\n",
    "n=int(input(\"How many elements?\"))\n",
    "for i in range(n):\n",
    "    p.append(int(input(\"Enter the element\")))\n",
    "print(p)\n",
    "sum=0\n",
    "sq=0\n",
    "for i in range(len(p)):\n",
    "    sum=sum+p[i]\n",
    "    sq=sq+pow(p[i],2)\n",
    "mean=sum/n\n",
    "print(\"mean=\",mean)\n",
    "varience=sq-(n*pow(mean,2))\n",
    "print(\"varience=\",varience)\n",
    "print(\"Sd=\",math.sqrt(varience))"
   ]
  },
  {
   "cell_type": "code",
   "execution_count": 2,
   "id": "7a0a541e",
   "metadata": {},
   "outputs": [],
   "source": [
    "import numpy\n",
    "numpy?"
   ]
  },
  {
   "cell_type": "code",
   "execution_count": 4,
   "id": "6934b935",
   "metadata": {},
   "outputs": [],
   "source": [
    "#dir(numpy)"
   ]
  },
  {
   "cell_type": "code",
   "execution_count": null,
   "id": "3c51bb80",
   "metadata": {},
   "outputs": [],
   "source": []
  },
  {
   "cell_type": "code",
   "execution_count": null,
   "id": "2ed5cf41",
   "metadata": {},
   "outputs": [],
   "source": []
  }
 ],
 "metadata": {
  "kernelspec": {
   "display_name": "Python 3",
   "language": "python",
   "name": "python3"
  },
  "language_info": {
   "codemirror_mode": {
    "name": "ipython",
    "version": 3
   },
   "file_extension": ".py",
   "mimetype": "text/x-python",
   "name": "python",
   "nbconvert_exporter": "python",
   "pygments_lexer": "ipython3",
   "version": "3.8.8"
  }
 },
 "nbformat": 4,
 "nbformat_minor": 5
}
